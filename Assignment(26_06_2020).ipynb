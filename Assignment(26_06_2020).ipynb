{
  "nbformat": 4,
  "nbformat_minor": 0,
  "metadata": {
    "colab": {
      "name": "Assignment(26-06-2020).ipynb",
      "provenance": []
    },
    "kernelspec": {
      "name": "python3",
      "display_name": "Python 3"
    }
  },
  "cells": [
    {
      "cell_type": "markdown",
      "metadata": {
        "id": "KUu2HPAe2Ikc",
        "colab_type": "text"
      },
      "source": [
        "**CSE-221710304026-K.vijayalakshmi**"
      ]
    },
    {
      "cell_type": "code",
      "metadata": {
        "id": "a65RIVY22Cih",
        "colab_type": "code",
        "colab": {
          "base_uri": "https://localhost:8080/",
          "height": 70
        },
        "outputId": "eb5ff4ea-2375-4c15-c0b1-6e9c4eed7390"
      },
      "source": [
        "import numpy as np\n",
        "import pandas as pd\n",
        "import matplotlib.pyplot as plt\n",
        "import seaborn as sns\n",
        "%matplotlib inline"
      ],
      "execution_count": 1,
      "outputs": [
        {
          "output_type": "stream",
          "text": [
            "/usr/local/lib/python3.6/dist-packages/statsmodels/tools/_testing.py:19: FutureWarning: pandas.util.testing is deprecated. Use the functions in the public API at pandas.testing instead.\n",
            "  import pandas.util.testing as tm\n"
          ],
          "name": "stderr"
        }
      ]
    },
    {
      "cell_type": "code",
      "metadata": {
        "id": "7xJ7E4jW2PDa",
        "colab_type": "code",
        "colab": {
          "base_uri": "https://localhost:8080/",
          "height": 402
        },
        "outputId": "25beb406-ac08-4d51-be0b-d7a29f1c9671"
      },
      "source": [
        "df=pd.read_csv('https://raw.githubusercontent.com/Mounika-Kajjam/Datasets/master/Advertising.csv',\n",
        "               index_col='Unnamed: 0')\n",
        "df"
      ],
      "execution_count": 2,
      "outputs": [
        {
          "output_type": "execute_result",
          "data": {
            "text/html": [
              "<div>\n",
              "<style scoped>\n",
              "    .dataframe tbody tr th:only-of-type {\n",
              "        vertical-align: middle;\n",
              "    }\n",
              "\n",
              "    .dataframe tbody tr th {\n",
              "        vertical-align: top;\n",
              "    }\n",
              "\n",
              "    .dataframe thead th {\n",
              "        text-align: right;\n",
              "    }\n",
              "</style>\n",
              "<table border=\"1\" class=\"dataframe\">\n",
              "  <thead>\n",
              "    <tr style=\"text-align: right;\">\n",
              "      <th></th>\n",
              "      <th>TV</th>\n",
              "      <th>radio</th>\n",
              "      <th>newspaper</th>\n",
              "      <th>sales</th>\n",
              "    </tr>\n",
              "  </thead>\n",
              "  <tbody>\n",
              "    <tr>\n",
              "      <th>1</th>\n",
              "      <td>230.1</td>\n",
              "      <td>37.8</td>\n",
              "      <td>69.2</td>\n",
              "      <td>22.1</td>\n",
              "    </tr>\n",
              "    <tr>\n",
              "      <th>2</th>\n",
              "      <td>44.5</td>\n",
              "      <td>39.3</td>\n",
              "      <td>45.1</td>\n",
              "      <td>10.4</td>\n",
              "    </tr>\n",
              "    <tr>\n",
              "      <th>3</th>\n",
              "      <td>17.2</td>\n",
              "      <td>45.9</td>\n",
              "      <td>69.3</td>\n",
              "      <td>9.3</td>\n",
              "    </tr>\n",
              "    <tr>\n",
              "      <th>4</th>\n",
              "      <td>151.5</td>\n",
              "      <td>41.3</td>\n",
              "      <td>58.5</td>\n",
              "      <td>18.5</td>\n",
              "    </tr>\n",
              "    <tr>\n",
              "      <th>5</th>\n",
              "      <td>180.8</td>\n",
              "      <td>10.8</td>\n",
              "      <td>58.4</td>\n",
              "      <td>12.9</td>\n",
              "    </tr>\n",
              "    <tr>\n",
              "      <th>...</th>\n",
              "      <td>...</td>\n",
              "      <td>...</td>\n",
              "      <td>...</td>\n",
              "      <td>...</td>\n",
              "    </tr>\n",
              "    <tr>\n",
              "      <th>196</th>\n",
              "      <td>38.2</td>\n",
              "      <td>3.7</td>\n",
              "      <td>13.8</td>\n",
              "      <td>7.6</td>\n",
              "    </tr>\n",
              "    <tr>\n",
              "      <th>197</th>\n",
              "      <td>94.2</td>\n",
              "      <td>4.9</td>\n",
              "      <td>8.1</td>\n",
              "      <td>9.7</td>\n",
              "    </tr>\n",
              "    <tr>\n",
              "      <th>198</th>\n",
              "      <td>177.0</td>\n",
              "      <td>9.3</td>\n",
              "      <td>6.4</td>\n",
              "      <td>12.8</td>\n",
              "    </tr>\n",
              "    <tr>\n",
              "      <th>199</th>\n",
              "      <td>283.6</td>\n",
              "      <td>42.0</td>\n",
              "      <td>66.2</td>\n",
              "      <td>25.5</td>\n",
              "    </tr>\n",
              "    <tr>\n",
              "      <th>200</th>\n",
              "      <td>232.1</td>\n",
              "      <td>8.6</td>\n",
              "      <td>8.7</td>\n",
              "      <td>13.4</td>\n",
              "    </tr>\n",
              "  </tbody>\n",
              "</table>\n",
              "<p>200 rows × 4 columns</p>\n",
              "</div>"
            ],
            "text/plain": [
              "        TV  radio  newspaper  sales\n",
              "1    230.1   37.8       69.2   22.1\n",
              "2     44.5   39.3       45.1   10.4\n",
              "3     17.2   45.9       69.3    9.3\n",
              "4    151.5   41.3       58.5   18.5\n",
              "5    180.8   10.8       58.4   12.9\n",
              "..     ...    ...        ...    ...\n",
              "196   38.2    3.7       13.8    7.6\n",
              "197   94.2    4.9        8.1    9.7\n",
              "198  177.0    9.3        6.4   12.8\n",
              "199  283.6   42.0       66.2   25.5\n",
              "200  232.1    8.6        8.7   13.4\n",
              "\n",
              "[200 rows x 4 columns]"
            ]
          },
          "metadata": {
            "tags": []
          },
          "execution_count": 2
        }
      ]
    },
    {
      "cell_type": "code",
      "metadata": {
        "id": "ksHdKGOi2TSm",
        "colab_type": "code",
        "colab": {
          "base_uri": "https://localhost:8080/",
          "height": 34
        },
        "outputId": "b058ad55-b712-4b5f-c7e6-4bfefb4ecab3"
      },
      "source": [
        "#Preprocessing steps:\n",
        "df.shape"
      ],
      "execution_count": 3,
      "outputs": [
        {
          "output_type": "execute_result",
          "data": {
            "text/plain": [
              "(200, 4)"
            ]
          },
          "metadata": {
            "tags": []
          },
          "execution_count": 3
        }
      ]
    },
    {
      "cell_type": "code",
      "metadata": {
        "id": "T1D3a_FA2WQU",
        "colab_type": "code",
        "colab": {
          "base_uri": "https://localhost:8080/",
          "height": 202
        },
        "outputId": "c49bb34c-62a9-42b4-b3cc-02c5675f3264"
      },
      "source": [
        "df.info()"
      ],
      "execution_count": 4,
      "outputs": [
        {
          "output_type": "stream",
          "text": [
            "<class 'pandas.core.frame.DataFrame'>\n",
            "Int64Index: 200 entries, 1 to 200\n",
            "Data columns (total 4 columns):\n",
            " #   Column     Non-Null Count  Dtype  \n",
            "---  ------     --------------  -----  \n",
            " 0   TV         200 non-null    float64\n",
            " 1   radio      200 non-null    float64\n",
            " 2   newspaper  200 non-null    float64\n",
            " 3   sales      200 non-null    float64\n",
            "dtypes: float64(4)\n",
            "memory usage: 7.8 KB\n"
          ],
          "name": "stdout"
        }
      ]
    },
    {
      "cell_type": "code",
      "metadata": {
        "id": "hvcuq8ny2X4g",
        "colab_type": "code",
        "colab": {
          "base_uri": "https://localhost:8080/",
          "height": 166
        },
        "outputId": "473a5e2c-0d42-434f-e0b8-5c19b40bb789"
      },
      "source": [
        "df.describe().T"
      ],
      "execution_count": 5,
      "outputs": [
        {
          "output_type": "execute_result",
          "data": {
            "text/html": [
              "<div>\n",
              "<style scoped>\n",
              "    .dataframe tbody tr th:only-of-type {\n",
              "        vertical-align: middle;\n",
              "    }\n",
              "\n",
              "    .dataframe tbody tr th {\n",
              "        vertical-align: top;\n",
              "    }\n",
              "\n",
              "    .dataframe thead th {\n",
              "        text-align: right;\n",
              "    }\n",
              "</style>\n",
              "<table border=\"1\" class=\"dataframe\">\n",
              "  <thead>\n",
              "    <tr style=\"text-align: right;\">\n",
              "      <th></th>\n",
              "      <th>count</th>\n",
              "      <th>mean</th>\n",
              "      <th>std</th>\n",
              "      <th>min</th>\n",
              "      <th>25%</th>\n",
              "      <th>50%</th>\n",
              "      <th>75%</th>\n",
              "      <th>max</th>\n",
              "    </tr>\n",
              "  </thead>\n",
              "  <tbody>\n",
              "    <tr>\n",
              "      <th>TV</th>\n",
              "      <td>200.0</td>\n",
              "      <td>147.0425</td>\n",
              "      <td>85.854236</td>\n",
              "      <td>0.7</td>\n",
              "      <td>74.375</td>\n",
              "      <td>149.75</td>\n",
              "      <td>218.825</td>\n",
              "      <td>296.4</td>\n",
              "    </tr>\n",
              "    <tr>\n",
              "      <th>radio</th>\n",
              "      <td>200.0</td>\n",
              "      <td>23.2640</td>\n",
              "      <td>14.846809</td>\n",
              "      <td>0.0</td>\n",
              "      <td>9.975</td>\n",
              "      <td>22.90</td>\n",
              "      <td>36.525</td>\n",
              "      <td>49.6</td>\n",
              "    </tr>\n",
              "    <tr>\n",
              "      <th>newspaper</th>\n",
              "      <td>200.0</td>\n",
              "      <td>30.5540</td>\n",
              "      <td>21.778621</td>\n",
              "      <td>0.3</td>\n",
              "      <td>12.750</td>\n",
              "      <td>25.75</td>\n",
              "      <td>45.100</td>\n",
              "      <td>114.0</td>\n",
              "    </tr>\n",
              "    <tr>\n",
              "      <th>sales</th>\n",
              "      <td>200.0</td>\n",
              "      <td>14.0225</td>\n",
              "      <td>5.217457</td>\n",
              "      <td>1.6</td>\n",
              "      <td>10.375</td>\n",
              "      <td>12.90</td>\n",
              "      <td>17.400</td>\n",
              "      <td>27.0</td>\n",
              "    </tr>\n",
              "  </tbody>\n",
              "</table>\n",
              "</div>"
            ],
            "text/plain": [
              "           count      mean        std  min     25%     50%      75%    max\n",
              "TV         200.0  147.0425  85.854236  0.7  74.375  149.75  218.825  296.4\n",
              "radio      200.0   23.2640  14.846809  0.0   9.975   22.90   36.525   49.6\n",
              "newspaper  200.0   30.5540  21.778621  0.3  12.750   25.75   45.100  114.0\n",
              "sales      200.0   14.0225   5.217457  1.6  10.375   12.90   17.400   27.0"
            ]
          },
          "metadata": {
            "tags": []
          },
          "execution_count": 5
        }
      ]
    },
    {
      "cell_type": "code",
      "metadata": {
        "id": "YZftPPj62Z0E",
        "colab_type": "code",
        "colab": {
          "base_uri": "https://localhost:8080/",
          "height": 195
        },
        "outputId": "a9850062-cce5-403c-d759-b985df064208"
      },
      "source": [
        "from sklearn.linear_model import LinearRegression\n",
        "from sklearn.preprocessing import LabelEncoder,StandardScaler\n",
        "sc=StandardScaler()\n",
        "df=pd.DataFrame(sc.fit_transform(df),columns=df.columns) #scaling the data\n",
        "df.head()"
      ],
      "execution_count": 6,
      "outputs": [
        {
          "output_type": "execute_result",
          "data": {
            "text/html": [
              "<div>\n",
              "<style scoped>\n",
              "    .dataframe tbody tr th:only-of-type {\n",
              "        vertical-align: middle;\n",
              "    }\n",
              "\n",
              "    .dataframe tbody tr th {\n",
              "        vertical-align: top;\n",
              "    }\n",
              "\n",
              "    .dataframe thead th {\n",
              "        text-align: right;\n",
              "    }\n",
              "</style>\n",
              "<table border=\"1\" class=\"dataframe\">\n",
              "  <thead>\n",
              "    <tr style=\"text-align: right;\">\n",
              "      <th></th>\n",
              "      <th>TV</th>\n",
              "      <th>radio</th>\n",
              "      <th>newspaper</th>\n",
              "      <th>sales</th>\n",
              "    </tr>\n",
              "  </thead>\n",
              "  <tbody>\n",
              "    <tr>\n",
              "      <th>0</th>\n",
              "      <td>0.969852</td>\n",
              "      <td>0.981522</td>\n",
              "      <td>1.778945</td>\n",
              "      <td>1.552053</td>\n",
              "    </tr>\n",
              "    <tr>\n",
              "      <th>1</th>\n",
              "      <td>-1.197376</td>\n",
              "      <td>1.082808</td>\n",
              "      <td>0.669579</td>\n",
              "      <td>-0.696046</td>\n",
              "    </tr>\n",
              "    <tr>\n",
              "      <th>2</th>\n",
              "      <td>-1.516155</td>\n",
              "      <td>1.528463</td>\n",
              "      <td>1.783549</td>\n",
              "      <td>-0.907406</td>\n",
              "    </tr>\n",
              "    <tr>\n",
              "      <th>3</th>\n",
              "      <td>0.052050</td>\n",
              "      <td>1.217855</td>\n",
              "      <td>1.286405</td>\n",
              "      <td>0.860330</td>\n",
              "    </tr>\n",
              "    <tr>\n",
              "      <th>4</th>\n",
              "      <td>0.394182</td>\n",
              "      <td>-0.841614</td>\n",
              "      <td>1.281802</td>\n",
              "      <td>-0.215683</td>\n",
              "    </tr>\n",
              "  </tbody>\n",
              "</table>\n",
              "</div>"
            ],
            "text/plain": [
              "         TV     radio  newspaper     sales\n",
              "0  0.969852  0.981522   1.778945  1.552053\n",
              "1 -1.197376  1.082808   0.669579 -0.696046\n",
              "2 -1.516155  1.528463   1.783549 -0.907406\n",
              "3  0.052050  1.217855   1.286405  0.860330\n",
              "4  0.394182 -0.841614   1.281802 -0.215683"
            ]
          },
          "metadata": {
            "tags": []
          },
          "execution_count": 6
        }
      ]
    },
    {
      "cell_type": "code",
      "metadata": {
        "id": "tHxhtHY92b5U",
        "colab_type": "code",
        "colab": {
          "base_uri": "https://localhost:8080/",
          "height": 312
        },
        "outputId": "3915865d-3892-473a-af21-0d38da7566de"
      },
      "source": [
        "#Visualize the relationship between the features and the response using scatterplots\n",
        "sns.scatterplot(df.TV,df.sales)\n",
        "plt.title('TV Vs sales')"
      ],
      "execution_count": 7,
      "outputs": [
        {
          "output_type": "execute_result",
          "data": {
            "text/plain": [
              "Text(0.5, 1.0, 'TV Vs sales')"
            ]
          },
          "metadata": {
            "tags": []
          },
          "execution_count": 7
        },
        {
          "output_type": "display_data",
          "data": {
            "image/png": "[encoded data removed]",
            "text/plain": [
              "<Figure size 432x288 with 1 Axes>"
            ]
          },
          "metadata": {
            "tags": [],
            "needs_background": "light"
          }
        }
      ]
    },
    {
      "cell_type": "code",
      "metadata": {
        "id": "hOx6pWy72eQU",
        "colab_type": "code",
        "colab": {
          "base_uri": "https://localhost:8080/",
          "height": 312
        },
        "outputId": "e43aa37e-8a08-44ea-bdcb-b0633a3f1cfe"
      },
      "source": [
        "sns.scatterplot(df.radio,df.sales)\n",
        "plt.title('Radio Vs Sales')"
      ],
      "execution_count": 8,
      "outputs": [
        {
          "output_type": "execute_result",
          "data": {
            "text/plain": [
              "Text(0.5, 1.0, 'Radio Vs Sales')"
            ]
          },
          "metadata": {
            "tags": []
          },
          "execution_count": 8
        },
        {
          "output_type": "display_data",
          "data": {
            "image/png": "[encoded data removed]",
            "text/plain": [
              "<Figure size 432x288 with 1 Axes>"
            ]
          },
          "metadata": {
            "tags": [],
            "needs_background": "light"
          }
        }
      ]
    },
    {
      "cell_type": "code",
      "metadata": {
        "id": "hPhdFEQn2geK",
        "colab_type": "code",
        "colab": {
          "base_uri": "https://localhost:8080/",
          "height": 312
        },
        "outputId": "ee444574-82f5-4b35-a4b0-6740ef23cdbb"
      },
      "source": [
        "sns.scatterplot(df.newspaper,df.sales)\n",
        "plt.title('Newspaper Vs Sales')"
      ],
      "execution_count": 9,
      "outputs": [
        {
          "output_type": "execute_result",
          "data": {
            "text/plain": [
              "Text(0.5, 1.0, 'Newspaper Vs Sales')"
            ]
          },
          "metadata": {
            "tags": []
          },
          "execution_count": 9
        },
        {
          "output_type": "display_data",
          "data": {
            "image/png": "[encoded data removed]",
            "text/plain": [
              "<Figure size 432x288 with 1 Axes>"
            ]
          },
          "metadata": {
            "tags": [],
            "needs_background": "light"
          }
        }
      ]
    },
    {
      "cell_type": "code",
      "metadata": {
        "id": "jlqUX-as2ihM",
        "colab_type": "code",
        "colab": {
          "base_uri": "https://localhost:8080/",
          "height": 166
        },
        "outputId": "0067b71c-4aee-423f-df33-297ca262ed7d"
      },
      "source": [
        "#Check for correlation and observe if there is  any multicollinearity.\n",
        "df.corr()"
      ],
      "execution_count": 10,
      "outputs": [
        {
          "output_type": "execute_result",
          "data": {
            "text/html": [
              "<div>\n",
              "<style scoped>\n",
              "    .dataframe tbody tr th:only-of-type {\n",
              "        vertical-align: middle;\n",
              "    }\n",
              "\n",
              "    .dataframe tbody tr th {\n",
              "        vertical-align: top;\n",
              "    }\n",
              "\n",
              "    .dataframe thead th {\n",
              "        text-align: right;\n",
              "    }\n",
              "</style>\n",
              "<table border=\"1\" class=\"dataframe\">\n",
              "  <thead>\n",
              "    <tr style=\"text-align: right;\">\n",
              "      <th></th>\n",
              "      <th>TV</th>\n",
              "      <th>radio</th>\n",
              "      <th>newspaper</th>\n",
              "      <th>sales</th>\n",
              "    </tr>\n",
              "  </thead>\n",
              "  <tbody>\n",
              "    <tr>\n",
              "      <th>TV</th>\n",
              "      <td>1.000000</td>\n",
              "      <td>0.054809</td>\n",
              "      <td>0.056648</td>\n",
              "      <td>0.782224</td>\n",
              "    </tr>\n",
              "    <tr>\n",
              "      <th>radio</th>\n",
              "      <td>0.054809</td>\n",
              "      <td>1.000000</td>\n",
              "      <td>0.354104</td>\n",
              "      <td>0.576223</td>\n",
              "    </tr>\n",
              "    <tr>\n",
              "      <th>newspaper</th>\n",
              "      <td>0.056648</td>\n",
              "      <td>0.354104</td>\n",
              "      <td>1.000000</td>\n",
              "      <td>0.228299</td>\n",
              "    </tr>\n",
              "    <tr>\n",
              "      <th>sales</th>\n",
              "      <td>0.782224</td>\n",
              "      <td>0.576223</td>\n",
              "      <td>0.228299</td>\n",
              "      <td>1.000000</td>\n",
              "    </tr>\n",
              "  </tbody>\n",
              "</table>\n",
              "</div>"
            ],
            "text/plain": [
              "                 TV     radio  newspaper     sales\n",
              "TV         1.000000  0.054809   0.056648  0.782224\n",
              "radio      0.054809  1.000000   0.354104  0.576223\n",
              "newspaper  0.056648  0.354104   1.000000  0.228299\n",
              "sales      0.782224  0.576223   0.228299  1.000000"
            ]
          },
          "metadata": {
            "tags": []
          },
          "execution_count": 10
        }
      ]
    },
    {
      "cell_type": "markdown",
      "metadata": {
        "id": "K3Tzd5l22pJZ",
        "colab_type": "text"
      },
      "source": [
        "\n",
        "The corr() values between the input is always >0.75.\n",
        "\n",
        "corr() value between:\n",
        "\n",
        "TV and radio: 0.054\n",
        "\n",
        "TV and newspaper: 0.056\n",
        "\n",
        "radio and newspaper: 0.354\n",
        "\n",
        "\n",
        "Therefore, no input columns are correlated so there is no multicollinearity."
      ]
    },
    {
      "cell_type": "code",
      "metadata": {
        "id": "4aphNZaV2kqE",
        "colab_type": "code",
        "colab": {}
      },
      "source": [
        "from sklearn.model_selection import train_test_split #model splitting"
      ],
      "execution_count": 11,
      "outputs": []
    },
    {
      "cell_type": "code",
      "metadata": {
        "id": "7R4JYs8U2xVr",
        "colab_type": "code",
        "colab": {}
      },
      "source": [
        "#After building a Linear Regression Model, write down the interpretation of the model\n",
        "X=df.drop(['sales'],axis=1)\n",
        "y=df.sales\n",
        "X_train,X_test,y_train,y_test=train_test_split(X,y,test_size=0.2,random_state=1)"
      ],
      "execution_count": 12,
      "outputs": []
    },
    {
      "cell_type": "code",
      "metadata": {
        "id": "1YKhVC1X2zzL",
        "colab_type": "code",
        "colab": {
          "base_uri": "https://localhost:8080/",
          "height": 34
        },
        "outputId": "e38b7b9a-db25-4af4-c747-d5b50e3ab8ce"
      },
      "source": [
        "lr=LinearRegression()\n",
        "lr.fit(X_train,y_train)"
      ],
      "execution_count": 13,
      "outputs": [
        {
          "output_type": "execute_result",
          "data": {
            "text/plain": [
              "LinearRegression(copy_X=True, fit_intercept=True, n_jobs=None, normalize=False)"
            ]
          },
          "metadata": {
            "tags": []
          },
          "execution_count": 13
        }
      ]
    },
    {
      "cell_type": "code",
      "metadata": {
        "id": "3NSALUBO22fa",
        "colab_type": "code",
        "colab": {
          "base_uri": "https://localhost:8080/",
          "height": 50
        },
        "outputId": "e0c25ebc-a7db-4cfc-8dd4-3ad7fc109b3f"
      },
      "source": [
        "print(lr.intercept_)\n",
        "print(lr.coef_)"
      ],
      "execution_count": 14,
      "outputs": [
        {
          "output_type": "stream",
          "text": [
            "0.0011620874606385126\n",
            "[0.77081214 0.50806629 0.01079522]\n"
          ],
          "name": "stdout"
        }
      ]
    },
    {
      "cell_type": "markdown",
      "metadata": {
        "id": "0d5HRi7L27fN",
        "colab_type": "text"
      },
      "source": [
        "**Interpretation of the model:**\n",
        "\n",
        "**The regression line of the model, makes an intercept on the y-axis at 0.001162087460638478**\n",
        "\n",
        "**and the coef of the inputs respectively are:**\n",
        "\n",
        "**[0.77081214, 0.50806629, 0.01079522]**\n",
        "\n",
        "**and the effect of the inputs TV, Radio and newpaper on Sales respectively are in the order:**\n",
        "\n",
        "**TV > Radio > Newspaper**\n",
        "\n",
        "**Therefore, it can be interpreted that the model thinks that the amount spent on TV commercials**\n",
        "\n",
        "**is of great significance as it brings in much more sales than any other Media.**\n",
        "\n",
        "**Radio is also moderately useful but not greater than TV**"
      ]
    },
    {
      "cell_type": "code",
      "metadata": {
        "id": "B5rREXUq256q",
        "colab_type": "code",
        "colab": {}
      },
      "source": [
        "y_train_pred=lr.predict(X_train)\n",
        "y_test_pred=lr.predict(X_test)"
      ],
      "execution_count": 15,
      "outputs": []
    },
    {
      "cell_type": "code",
      "metadata": {
        "id": "JsCg0qQ83dGL",
        "colab_type": "code",
        "colab": {
          "base_uri": "https://localhost:8080/",
          "height": 312
        },
        "outputId": "dd0fbfb1-7e3f-4584-fc21-bacac232987e"
      },
      "source": [
        "#Find out how well does the model fit the data?\n",
        "#first, lets visualise the actual values and the predictions using regplot\n",
        "#Graphical Method for preedicting model accuracy\n",
        "sns.regplot(y_train,y_train_pred)\n",
        "plt.title('Training Data')"
      ],
      "execution_count": 16,
      "outputs": [
        {
          "output_type": "execute_result",
          "data": {
            "text/plain": [
              "Text(0.5, 1.0, 'Training Data')"
            ]
          },
          "metadata": {
            "tags": []
          },
          "execution_count": 16
        },
        {
          "output_type": "display_data",
          "data": {
            "image/png": "[encoded data removed]",
            "text/plain": [
              "<Figure size 432x288 with 1 Axes>"
            ]
          },
          "metadata": {
            "tags": [],
            "needs_background": "light"
          }
        }
      ]
    },
    {
      "cell_type": "markdown",
      "metadata": {
        "id": "6wa5GDjv3gac",
        "colab_type": "text"
      },
      "source": [
        "**It can be observed that the model is working good**\n",
        "\n",
        "**and that there is not much differnce between the ACTUAL and PREDICTED values**\n",
        "\n",
        "**of the training data**\n",
        "\n",
        "**This can be inferred from the graph by noticing that there are less**\n",
        "\n",
        "**residual values(the values that are far away from the reg line), indicating minimal error in the prediction**"
      ]
    },
    {
      "cell_type": "code",
      "metadata": {
        "id": "gvBtv7uW3fA7",
        "colab_type": "code",
        "colab": {
          "base_uri": "https://localhost:8080/",
          "height": 312
        },
        "outputId": "c73b10cc-fd7c-42b9-c5be-2ec42cbf7fe8"
      },
      "source": [
        "sns.regplot(y_test,y_test_pred)\n",
        "plt.title('Testing Data')"
      ],
      "execution_count": 17,
      "outputs": [
        {
          "output_type": "execute_result",
          "data": {
            "text/plain": [
              "Text(0.5, 1.0, 'Testing Data')"
            ]
          },
          "metadata": {
            "tags": []
          },
          "execution_count": 17
        },
        {
          "output_type": "display_data",
          "data": {
            "image/png": "[encoded data removed]",
            "text/plain": [
              "<Figure size 432x288 with 1 Axes>"
            ]
          },
          "metadata": {
            "tags": [],
            "needs_background": "light"
          }
        }
      ]
    },
    {
      "cell_type": "markdown",
      "metadata": {
        "id": "mR6KAV1n30QH",
        "colab_type": "text"
      },
      "source": [
        "**The model appears to work with almost same accuracy, and,**\n",
        "\n",
        "**there is not much difference between the ACTUAL and PREDICTED values**\n",
        "\n",
        "**of the testing data.**\n",
        "\n",
        "**This can be infered from the data ny noticing that the residual values**\n",
        "\n",
        "**are pretty less, indicating minimal error in the prediction**"
      ]
    },
    {
      "cell_type": "code",
      "metadata": {
        "id": "B1cz86A23zOF",
        "colab_type": "code",
        "colab": {}
      },
      "source": [
        "from sklearn.metrics import r2_score,mean_absolute_error,mean_squared_error"
      ],
      "execution_count": 18,
      "outputs": []
    },
    {
      "cell_type": "code",
      "metadata": {
        "id": "IBrAngm54DR4",
        "colab_type": "code",
        "colab": {
          "base_uri": "https://localhost:8080/",
          "height": 269
        },
        "outputId": "cafbeb3b-dff0-4ed9-f8c7-c88e55539427"
      },
      "source": [
        "#lets now check the accuracy using metrics:\n",
        "#Using Statistical Metrics:\n",
        "print('Training Metrics:\\n')\n",
        "print('R2 score: ',r2_score(y_train,y_train_pred))\n",
        "print('Adjusted R2 score: ',1- (1-r2_score(y_train, y_train_pred))*(len(X_train)-1)/\n",
        "                                  (len(X_train)-X_train.shape[1]-1))\n",
        "print('MAE: ',mean_absolute_error(y_train,y_train_pred))\n",
        "print('MSE: ',mean_squared_error(y_train,y_train_pred))\n",
        "print('RMSE: ',np.sqrt(mean_squared_error(y_train,y_train_pred)))\n",
        "print('\\nTesting Metrics:\\n')\n",
        "print('R2 score:', r2_score(y_test,y_test_pred))\n",
        "print('Adjusted R2 score:', 1- (1-r2_score(y_test, y_test_pred))*(len(X_test)-1)/\n",
        "                                  (len(X_test)-X_test.shape[1]-1))\n",
        "print('MAE:', mean_absolute_error(y_test, y_test_pred))\n",
        "print('MSE:', mean_squared_error(y_test, y_test_pred))\n",
        "print('RMSE', np.sqrt(mean_squared_error(y_test, y_test_pred)))"
      ],
      "execution_count": 19,
      "outputs": [
        {
          "output_type": "stream",
          "text": [
            "Training Metrics:\n",
            "\n",
            "R2 score:  0.8959372632325174\n",
            "Adjusted R2 score:  0.8939360567562197\n",
            "MAE:  0.2553322418777194\n",
            "MSE:  0.11138075570325356\n",
            "RMSE:  0.33373755512865727\n",
            "\n",
            "Testing Metrics:\n",
            "\n",
            "R2 score: 0.8927605914615385\n",
            "Adjusted R2 score: 0.8838239740833334\n",
            "MAE: 0.19987243199696367\n",
            "MSE: 0.07353999839228295\n",
            "RMSE 0.27118259234744946\n"
          ],
          "name": "stdout"
        }
      ]
    },
    {
      "cell_type": "markdown",
      "metadata": {
        "id": "zLndw2vw4HCm",
        "colab_type": "text"
      },
      "source": [
        "**From the above R2 scores of TRAIN and TEST data: It can be inferred that the model has an 89% accuracy in predicting Training data and an 88% accuracy in predicting Testing data. From the above values of the RMSE of TRAIN and TEST data: It can be infered that the model has an error magnitude of 0.33 for Training data and an error magnitude of 0.27 fro Testing data**"
      ]
    },
    {
      "cell_type": "code",
      "metadata": {
        "id": "MIWLTIGR4FUe",
        "colab_type": "code",
        "colab": {}
      },
      "source": [
        ""
      ],
      "execution_count": null,
      "outputs": []
    }
  ]
}