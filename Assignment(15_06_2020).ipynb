{
  "nbformat": 4,
  "nbformat_minor": 0,
  "metadata": {
    "colab": {
      "name": "Assignment(15-06-2020).ipynb",
      "provenance": []
    },
    "kernelspec": {
      "name": "python3",
      "display_name": "Python 3"
    }
  },
  "cells": [
    {
      "cell_type": "markdown",
      "metadata": {
        "id": "GP3jxf1EbujG",
        "colab_type": "text"
      },
      "source": [
        "**CSE-221710304026-k.vijayalakshmi**"
      ]
    },
    {
      "cell_type": "code",
      "metadata": {
        "id": "yE34gr05bni1",
        "colab_type": "code",
        "colab": {}
      },
      "source": [
        "import pandas as pd\n",
        "import numpy as np\n",
        "import matplotlib.pyplot as plt\n",
        "import sklearn"
      ],
      "execution_count": 0,
      "outputs": []
    },
    {
      "cell_type": "markdown",
      "metadata": {
        "id": "6oBPqTbsb4l7",
        "colab_type": "text"
      },
      "source": [
        "What is the parameter we should use to mention the first row in the data set are not columns what is the value we should send for that parameter\n",
        "\n",
        "To include the first row in data set we need to pass header=None as paramete\n"
      ]
    },
    {
      "cell_type": "code",
      "metadata": {
        "id": "BHXgPEUEb1f-",
        "colab_type": "code",
        "colab": {
          "base_uri": "https://localhost:8080/",
          "height": 402
        },
        "outputId": "d785fee3-b035-4b26-8d45-6b4baf8f9c75"
      },
      "source": [
        "df = pd.read_csv(\"https://raw.githubusercontent.com/Mounika-Kajjam/SummerInternship/master/data.csv\",sep=\";\")\n",
        "df"
      ],
      "execution_count": 2,
      "outputs": [
        {
          "output_type": "execute_result",
          "data": {
            "text/html": [
              "<div>\n",
              "<style scoped>\n",
              "    .dataframe tbody tr th:only-of-type {\n",
              "        vertical-align: middle;\n",
              "    }\n",
              "\n",
              "    .dataframe tbody tr th {\n",
              "        vertical-align: top;\n",
              "    }\n",
              "\n",
              "    .dataframe thead th {\n",
              "        text-align: right;\n",
              "    }\n",
              "</style>\n",
              "<table border=\"1\" class=\"dataframe\">\n",
              "  <thead>\n",
              "    <tr style=\"text-align: right;\">\n",
              "      <th></th>\n",
              "      <th>2018-01-01 00:01:01</th>\n",
              "      <th>read</th>\n",
              "      <th>country_7</th>\n",
              "      <th>2458151261</th>\n",
              "      <th>SEO</th>\n",
              "      <th>North America</th>\n",
              "    </tr>\n",
              "  </thead>\n",
              "  <tbody>\n",
              "    <tr>\n",
              "      <th>0</th>\n",
              "      <td>2018-01-01 00:03:20</td>\n",
              "      <td>read</td>\n",
              "      <td>country_7</td>\n",
              "      <td>2458151262</td>\n",
              "      <td>SEO</td>\n",
              "      <td>South America</td>\n",
              "    </tr>\n",
              "    <tr>\n",
              "      <th>1</th>\n",
              "      <td>2018-01-01 00:04:01</td>\n",
              "      <td>read</td>\n",
              "      <td>country_7</td>\n",
              "      <td>2458151263</td>\n",
              "      <td>AdWords</td>\n",
              "      <td>Africa</td>\n",
              "    </tr>\n",
              "    <tr>\n",
              "      <th>2</th>\n",
              "      <td>2018-01-01 00:04:02</td>\n",
              "      <td>read</td>\n",
              "      <td>country_7</td>\n",
              "      <td>2458151264</td>\n",
              "      <td>AdWords</td>\n",
              "      <td>Europe</td>\n",
              "    </tr>\n",
              "    <tr>\n",
              "      <th>3</th>\n",
              "      <td>2018-01-01 00:05:03</td>\n",
              "      <td>read</td>\n",
              "      <td>country_8</td>\n",
              "      <td>2458151265</td>\n",
              "      <td>Reddit</td>\n",
              "      <td>North America</td>\n",
              "    </tr>\n",
              "    <tr>\n",
              "      <th>4</th>\n",
              "      <td>2018-01-01 00:05:42</td>\n",
              "      <td>read</td>\n",
              "      <td>country_6</td>\n",
              "      <td>2458151266</td>\n",
              "      <td>Reddit</td>\n",
              "      <td>North America</td>\n",
              "    </tr>\n",
              "    <tr>\n",
              "      <th>...</th>\n",
              "      <td>...</td>\n",
              "      <td>...</td>\n",
              "      <td>...</td>\n",
              "      <td>...</td>\n",
              "      <td>...</td>\n",
              "      <td>...</td>\n",
              "    </tr>\n",
              "    <tr>\n",
              "      <th>1789</th>\n",
              "      <td>2018-01-01 23:57:14</td>\n",
              "      <td>read</td>\n",
              "      <td>country_2</td>\n",
              "      <td>2458153051</td>\n",
              "      <td>AdWords</td>\n",
              "      <td>North America</td>\n",
              "    </tr>\n",
              "    <tr>\n",
              "      <th>1790</th>\n",
              "      <td>2018-01-01 23:58:33</td>\n",
              "      <td>read</td>\n",
              "      <td>country_8</td>\n",
              "      <td>2458153052</td>\n",
              "      <td>SEO</td>\n",
              "      <td>Asia</td>\n",
              "    </tr>\n",
              "    <tr>\n",
              "      <th>1791</th>\n",
              "      <td>2018-01-01 23:59:36</td>\n",
              "      <td>read</td>\n",
              "      <td>country_6</td>\n",
              "      <td>2458153053</td>\n",
              "      <td>Reddit</td>\n",
              "      <td>Asia</td>\n",
              "    </tr>\n",
              "    <tr>\n",
              "      <th>1792</th>\n",
              "      <td>2018-01-01 23:59:36</td>\n",
              "      <td>read</td>\n",
              "      <td>country_7</td>\n",
              "      <td>2458153054</td>\n",
              "      <td>AdWords</td>\n",
              "      <td>Europe</td>\n",
              "    </tr>\n",
              "    <tr>\n",
              "      <th>1793</th>\n",
              "      <td>2018-01-01 23:59:38</td>\n",
              "      <td>read</td>\n",
              "      <td>country_5</td>\n",
              "      <td>2458153055</td>\n",
              "      <td>Reddit</td>\n",
              "      <td>Asia</td>\n",
              "    </tr>\n",
              "  </tbody>\n",
              "</table>\n",
              "<p>1794 rows × 6 columns</p>\n",
              "</div>"
            ],
            "text/plain": [
              "      2018-01-01 00:01:01  read  country_7  2458151261      SEO  North America\n",
              "0     2018-01-01 00:03:20  read  country_7  2458151262      SEO  South America\n",
              "1     2018-01-01 00:04:01  read  country_7  2458151263  AdWords         Africa\n",
              "2     2018-01-01 00:04:02  read  country_7  2458151264  AdWords         Europe\n",
              "3     2018-01-01 00:05:03  read  country_8  2458151265   Reddit  North America\n",
              "4     2018-01-01 00:05:42  read  country_6  2458151266   Reddit  North America\n",
              "...                   ...   ...        ...         ...      ...            ...\n",
              "1789  2018-01-01 23:57:14  read  country_2  2458153051  AdWords  North America\n",
              "1790  2018-01-01 23:58:33  read  country_8  2458153052      SEO           Asia\n",
              "1791  2018-01-01 23:59:36  read  country_6  2458153053   Reddit           Asia\n",
              "1792  2018-01-01 23:59:36  read  country_7  2458153054  AdWords         Europe\n",
              "1793  2018-01-01 23:59:38  read  country_5  2458153055   Reddit           Asia\n",
              "\n",
              "[1794 rows x 6 columns]"
            ]
          },
          "metadata": {
            "tags": []
          },
          "execution_count": 2
        }
      ]
    },
    {
      "cell_type": "code",
      "metadata": {
        "id": "RzCd7V69b941",
        "colab_type": "code",
        "colab": {
          "base_uri": "https://localhost:8080/",
          "height": 402
        },
        "outputId": "c3c4852b-9cd6-46b6-ac18-b94c320ede0e"
      },
      "source": [
        "df = pd.read_csv(\"https://raw.githubusercontent.com/Mounika-Kajjam/SummerInternship/master/data.csv\",sep=\";\",header=None)\n",
        "df"
      ],
      "execution_count": 3,
      "outputs": [
        {
          "output_type": "execute_result",
          "data": {
            "text/html": [
              "<div>\n",
              "<style scoped>\n",
              "    .dataframe tbody tr th:only-of-type {\n",
              "        vertical-align: middle;\n",
              "    }\n",
              "\n",
              "    .dataframe tbody tr th {\n",
              "        vertical-align: top;\n",
              "    }\n",
              "\n",
              "    .dataframe thead th {\n",
              "        text-align: right;\n",
              "    }\n",
              "</style>\n",
              "<table border=\"1\" class=\"dataframe\">\n",
              "  <thead>\n",
              "    <tr style=\"text-align: right;\">\n",
              "      <th></th>\n",
              "      <th>0</th>\n",
              "      <th>1</th>\n",
              "      <th>2</th>\n",
              "      <th>3</th>\n",
              "      <th>4</th>\n",
              "      <th>5</th>\n",
              "    </tr>\n",
              "  </thead>\n",
              "  <tbody>\n",
              "    <tr>\n",
              "      <th>0</th>\n",
              "      <td>2018-01-01 00:01:01</td>\n",
              "      <td>read</td>\n",
              "      <td>country_7</td>\n",
              "      <td>2458151261</td>\n",
              "      <td>SEO</td>\n",
              "      <td>North America</td>\n",
              "    </tr>\n",
              "    <tr>\n",
              "      <th>1</th>\n",
              "      <td>2018-01-01 00:03:20</td>\n",
              "      <td>read</td>\n",
              "      <td>country_7</td>\n",
              "      <td>2458151262</td>\n",
              "      <td>SEO</td>\n",
              "      <td>South America</td>\n",
              "    </tr>\n",
              "    <tr>\n",
              "      <th>2</th>\n",
              "      <td>2018-01-01 00:04:01</td>\n",
              "      <td>read</td>\n",
              "      <td>country_7</td>\n",
              "      <td>2458151263</td>\n",
              "      <td>AdWords</td>\n",
              "      <td>Africa</td>\n",
              "    </tr>\n",
              "    <tr>\n",
              "      <th>3</th>\n",
              "      <td>2018-01-01 00:04:02</td>\n",
              "      <td>read</td>\n",
              "      <td>country_7</td>\n",
              "      <td>2458151264</td>\n",
              "      <td>AdWords</td>\n",
              "      <td>Europe</td>\n",
              "    </tr>\n",
              "    <tr>\n",
              "      <th>4</th>\n",
              "      <td>2018-01-01 00:05:03</td>\n",
              "      <td>read</td>\n",
              "      <td>country_8</td>\n",
              "      <td>2458151265</td>\n",
              "      <td>Reddit</td>\n",
              "      <td>North America</td>\n",
              "    </tr>\n",
              "    <tr>\n",
              "      <th>...</th>\n",
              "      <td>...</td>\n",
              "      <td>...</td>\n",
              "      <td>...</td>\n",
              "      <td>...</td>\n",
              "      <td>...</td>\n",
              "      <td>...</td>\n",
              "    </tr>\n",
              "    <tr>\n",
              "      <th>1790</th>\n",
              "      <td>2018-01-01 23:57:14</td>\n",
              "      <td>read</td>\n",
              "      <td>country_2</td>\n",
              "      <td>2458153051</td>\n",
              "      <td>AdWords</td>\n",
              "      <td>North America</td>\n",
              "    </tr>\n",
              "    <tr>\n",
              "      <th>1791</th>\n",
              "      <td>2018-01-01 23:58:33</td>\n",
              "      <td>read</td>\n",
              "      <td>country_8</td>\n",
              "      <td>2458153052</td>\n",
              "      <td>SEO</td>\n",
              "      <td>Asia</td>\n",
              "    </tr>\n",
              "    <tr>\n",
              "      <th>1792</th>\n",
              "      <td>2018-01-01 23:59:36</td>\n",
              "      <td>read</td>\n",
              "      <td>country_6</td>\n",
              "      <td>2458153053</td>\n",
              "      <td>Reddit</td>\n",
              "      <td>Asia</td>\n",
              "    </tr>\n",
              "    <tr>\n",
              "      <th>1793</th>\n",
              "      <td>2018-01-01 23:59:36</td>\n",
              "      <td>read</td>\n",
              "      <td>country_7</td>\n",
              "      <td>2458153054</td>\n",
              "      <td>AdWords</td>\n",
              "      <td>Europe</td>\n",
              "    </tr>\n",
              "    <tr>\n",
              "      <th>1794</th>\n",
              "      <td>2018-01-01 23:59:38</td>\n",
              "      <td>read</td>\n",
              "      <td>country_5</td>\n",
              "      <td>2458153055</td>\n",
              "      <td>Reddit</td>\n",
              "      <td>Asia</td>\n",
              "    </tr>\n",
              "  </tbody>\n",
              "</table>\n",
              "<p>1795 rows × 6 columns</p>\n",
              "</div>"
            ],
            "text/plain": [
              "                        0     1          2           3        4              5\n",
              "0     2018-01-01 00:01:01  read  country_7  2458151261      SEO  North America\n",
              "1     2018-01-01 00:03:20  read  country_7  2458151262      SEO  South America\n",
              "2     2018-01-01 00:04:01  read  country_7  2458151263  AdWords         Africa\n",
              "3     2018-01-01 00:04:02  read  country_7  2458151264  AdWords         Europe\n",
              "4     2018-01-01 00:05:03  read  country_8  2458151265   Reddit  North America\n",
              "...                   ...   ...        ...         ...      ...            ...\n",
              "1790  2018-01-01 23:57:14  read  country_2  2458153051  AdWords  North America\n",
              "1791  2018-01-01 23:58:33  read  country_8  2458153052      SEO           Asia\n",
              "1792  2018-01-01 23:59:36  read  country_6  2458153053   Reddit           Asia\n",
              "1793  2018-01-01 23:59:36  read  country_7  2458153054  AdWords         Europe\n",
              "1794  2018-01-01 23:59:38  read  country_5  2458153055   Reddit           Asia\n",
              "\n",
              "[1795 rows x 6 columns]"
            ]
          },
          "metadata": {
            "tags": []
          },
          "execution_count": 3
        }
      ]
    },
    {
      "cell_type": "code",
      "metadata": {
        "id": "wU_UsW-pcAh4",
        "colab_type": "code",
        "colab": {
          "base_uri": "https://localhost:8080/",
          "height": 402
        },
        "outputId": "b7debd62-4ec6-4ea0-f759-0409a33b965f"
      },
      "source": [
        "#Read the data in the data.csv file in the proper format\n",
        "\n",
        "df.set_axis( ['my_datetime', 'event', 'country_code', 'user_id', 'source', 'country'],axis=1,inplace=True)\n",
        "df"
      ],
      "execution_count": 4,
      "outputs": [
        {
          "output_type": "execute_result",
          "data": {
            "text/html": [
              "<div>\n",
              "<style scoped>\n",
              "    .dataframe tbody tr th:only-of-type {\n",
              "        vertical-align: middle;\n",
              "    }\n",
              "\n",
              "    .dataframe tbody tr th {\n",
              "        vertical-align: top;\n",
              "    }\n",
              "\n",
              "    .dataframe thead th {\n",
              "        text-align: right;\n",
              "    }\n",
              "</style>\n",
              "<table border=\"1\" class=\"dataframe\">\n",
              "  <thead>\n",
              "    <tr style=\"text-align: right;\">\n",
              "      <th></th>\n",
              "      <th>my_datetime</th>\n",
              "      <th>event</th>\n",
              "      <th>country_code</th>\n",
              "      <th>user_id</th>\n",
              "      <th>source</th>\n",
              "      <th>country</th>\n",
              "    </tr>\n",
              "  </thead>\n",
              "  <tbody>\n",
              "    <tr>\n",
              "      <th>0</th>\n",
              "      <td>2018-01-01 00:01:01</td>\n",
              "      <td>read</td>\n",
              "      <td>country_7</td>\n",
              "      <td>2458151261</td>\n",
              "      <td>SEO</td>\n",
              "      <td>North America</td>\n",
              "    </tr>\n",
              "    <tr>\n",
              "      <th>1</th>\n",
              "      <td>2018-01-01 00:03:20</td>\n",
              "      <td>read</td>\n",
              "      <td>country_7</td>\n",
              "      <td>2458151262</td>\n",
              "      <td>SEO</td>\n",
              "      <td>South America</td>\n",
              "    </tr>\n",
              "    <tr>\n",
              "      <th>2</th>\n",
              "      <td>2018-01-01 00:04:01</td>\n",
              "      <td>read</td>\n",
              "      <td>country_7</td>\n",
              "      <td>2458151263</td>\n",
              "      <td>AdWords</td>\n",
              "      <td>Africa</td>\n",
              "    </tr>\n",
              "    <tr>\n",
              "      <th>3</th>\n",
              "      <td>2018-01-01 00:04:02</td>\n",
              "      <td>read</td>\n",
              "      <td>country_7</td>\n",
              "      <td>2458151264</td>\n",
              "      <td>AdWords</td>\n",
              "      <td>Europe</td>\n",
              "    </tr>\n",
              "    <tr>\n",
              "      <th>4</th>\n",
              "      <td>2018-01-01 00:05:03</td>\n",
              "      <td>read</td>\n",
              "      <td>country_8</td>\n",
              "      <td>2458151265</td>\n",
              "      <td>Reddit</td>\n",
              "      <td>North America</td>\n",
              "    </tr>\n",
              "    <tr>\n",
              "      <th>...</th>\n",
              "      <td>...</td>\n",
              "      <td>...</td>\n",
              "      <td>...</td>\n",
              "      <td>...</td>\n",
              "      <td>...</td>\n",
              "      <td>...</td>\n",
              "    </tr>\n",
              "    <tr>\n",
              "      <th>1790</th>\n",
              "      <td>2018-01-01 23:57:14</td>\n",
              "      <td>read</td>\n",
              "      <td>country_2</td>\n",
              "      <td>2458153051</td>\n",
              "      <td>AdWords</td>\n",
              "      <td>North America</td>\n",
              "    </tr>\n",
              "    <tr>\n",
              "      <th>1791</th>\n",
              "      <td>2018-01-01 23:58:33</td>\n",
              "      <td>read</td>\n",
              "      <td>country_8</td>\n",
              "      <td>2458153052</td>\n",
              "      <td>SEO</td>\n",
              "      <td>Asia</td>\n",
              "    </tr>\n",
              "    <tr>\n",
              "      <th>1792</th>\n",
              "      <td>2018-01-01 23:59:36</td>\n",
              "      <td>read</td>\n",
              "      <td>country_6</td>\n",
              "      <td>2458153053</td>\n",
              "      <td>Reddit</td>\n",
              "      <td>Asia</td>\n",
              "    </tr>\n",
              "    <tr>\n",
              "      <th>1793</th>\n",
              "      <td>2018-01-01 23:59:36</td>\n",
              "      <td>read</td>\n",
              "      <td>country_7</td>\n",
              "      <td>2458153054</td>\n",
              "      <td>AdWords</td>\n",
              "      <td>Europe</td>\n",
              "    </tr>\n",
              "    <tr>\n",
              "      <th>1794</th>\n",
              "      <td>2018-01-01 23:59:38</td>\n",
              "      <td>read</td>\n",
              "      <td>country_5</td>\n",
              "      <td>2458153055</td>\n",
              "      <td>Reddit</td>\n",
              "      <td>Asia</td>\n",
              "    </tr>\n",
              "  </tbody>\n",
              "</table>\n",
              "<p>1795 rows × 6 columns</p>\n",
              "</div>"
            ],
            "text/plain": [
              "              my_datetime event  ...   source        country\n",
              "0     2018-01-01 00:01:01  read  ...      SEO  North America\n",
              "1     2018-01-01 00:03:20  read  ...      SEO  South America\n",
              "2     2018-01-01 00:04:01  read  ...  AdWords         Africa\n",
              "3     2018-01-01 00:04:02  read  ...  AdWords         Europe\n",
              "4     2018-01-01 00:05:03  read  ...   Reddit  North America\n",
              "...                   ...   ...  ...      ...            ...\n",
              "1790  2018-01-01 23:57:14  read  ...  AdWords  North America\n",
              "1791  2018-01-01 23:58:33  read  ...      SEO           Asia\n",
              "1792  2018-01-01 23:59:36  read  ...   Reddit           Asia\n",
              "1793  2018-01-01 23:59:36  read  ...  AdWords         Europe\n",
              "1794  2018-01-01 23:59:38  read  ...   Reddit           Asia\n",
              "\n",
              "[1795 rows x 6 columns]"
            ]
          },
          "metadata": {
            "tags": []
          },
          "execution_count": 4
        }
      ]
    },
    {
      "cell_type": "code",
      "metadata": {
        "id": "OXTNgqr-cDPt",
        "colab_type": "code",
        "colab": {
          "base_uri": "https://localhost:8080/",
          "height": 50
        },
        "outputId": "dd95c91b-9044-478d-a2b4-a42f7f6b9f54"
      },
      "source": [
        "# check how many rows and columns are there\n",
        "\n",
        "print(\" Rows   :\",df.shape[0],\"\\n\",\"Columns:\",df.shape[1])"
      ],
      "execution_count": 5,
      "outputs": [
        {
          "output_type": "stream",
          "text": [
            " Rows   : 1795 \n",
            " Columns: 6\n"
          ],
          "name": "stdout"
        }
      ]
    },
    {
      "cell_type": "code",
      "metadata": {
        "id": "xgJ2gBm0cGgV",
        "colab_type": "code",
        "colab": {
          "base_uri": "https://localhost:8080/",
          "height": 34
        },
        "outputId": "c5aee8de-15bf-4ea5-8ea4-7f6a73166510"
      },
      "source": [
        "# what are the columns names\n",
        "\n",
        "list(df.columns)"
      ],
      "execution_count": 6,
      "outputs": [
        {
          "output_type": "execute_result",
          "data": {
            "text/plain": [
              "['my_datetime', 'event', 'country_code', 'user_id', 'source', 'country']"
            ]
          },
          "metadata": {
            "tags": []
          },
          "execution_count": 6
        }
      ]
    },
    {
      "cell_type": "code",
      "metadata": {
        "id": "7CT8KQh6cIbo",
        "colab_type": "code",
        "colab": {
          "base_uri": "https://localhost:8080/",
          "height": 34
        },
        "outputId": "21af7cbe-c9e7-435f-d8ad-b47dbb18e3e8"
      },
      "source": [
        "#what are are the row labels\n",
        "\n",
        "list(df.head(10).index)"
      ],
      "execution_count": 7,
      "outputs": [
        {
          "output_type": "execute_result",
          "data": {
            "text/plain": [
              "[0, 1, 2, 3, 4, 5, 6, 7, 8, 9]"
            ]
          },
          "metadata": {
            "tags": []
          },
          "execution_count": 7
        }
      ]
    },
    {
      "cell_type": "markdown",
      "metadata": {
        "id": "7xadlakscL4Z",
        "colab_type": "text"
      },
      "source": [
        "**1.Write down your observation**"
      ]
    },
    {
      "cell_type": "code",
      "metadata": {
        "id": "cRB2Qb5kcK6B",
        "colab_type": "code",
        "colab": {
          "base_uri": "https://localhost:8080/",
          "height": 134
        },
        "outputId": "814507fd-17ce-40b2-bcaa-aaf799e2c7fd"
      },
      "source": [
        "#what type of data you have \n",
        "\n",
        "df.dtypes # All columns except user id are object type and userid is INT type"
      ],
      "execution_count": 8,
      "outputs": [
        {
          "output_type": "execute_result",
          "data": {
            "text/plain": [
              "my_datetime     object\n",
              "event           object\n",
              "country_code    object\n",
              "user_id          int64\n",
              "source          object\n",
              "country         object\n",
              "dtype: object"
            ]
          },
          "metadata": {
            "tags": []
          },
          "execution_count": 8
        }
      ]
    },
    {
      "cell_type": "code",
      "metadata": {
        "id": "_N9w2WYtcT4f",
        "colab_type": "code",
        "colab": {
          "base_uri": "https://localhost:8080/",
          "height": 134
        },
        "outputId": "3c28fcd4-9960-402e-afa2-e7549fc20f8b"
      },
      "source": [
        "# In the data if you have observed are there any missing values(NaN)\n",
        "df.isna().sum() # there are no null values are present"
      ],
      "execution_count": 9,
      "outputs": [
        {
          "output_type": "execute_result",
          "data": {
            "text/plain": [
              "my_datetime     0\n",
              "event           0\n",
              "country_code    0\n",
              "user_id         0\n",
              "source          0\n",
              "country         0\n",
              "dtype: int64"
            ]
          },
          "metadata": {
            "tags": []
          },
          "execution_count": 9
        }
      ]
    },
    {
      "cell_type": "code",
      "metadata": {
        "id": "mWuviyvacaUi",
        "colab_type": "code",
        "colab": {
          "base_uri": "https://localhost:8080/",
          "height": 134
        },
        "outputId": "e47d52a5-774e-44df-ab6b-db25637dd147"
      },
      "source": [
        "#print the datatype of each column\n",
        "df.dtypes"
      ],
      "execution_count": 10,
      "outputs": [
        {
          "output_type": "execute_result",
          "data": {
            "text/plain": [
              "my_datetime     object\n",
              "event           object\n",
              "country_code    object\n",
              "user_id          int64\n",
              "source          object\n",
              "country         object\n",
              "dtype: object"
            ]
          },
          "metadata": {
            "tags": []
          },
          "execution_count": 10
        }
      ]
    },
    {
      "cell_type": "code",
      "metadata": {
        "id": "pnkPK6fAccLD",
        "colab_type": "code",
        "colab": {
          "base_uri": "https://localhost:8080/",
          "height": 50
        },
        "outputId": "512f62b0-d4c9-4e49-b67d-58db9fa5b631"
      },
      "source": [
        "# For each data type how many columns are there\n",
        "print(\"object columns:\",len(df.select_dtypes(include='O').columns))\n",
        "print(\"int columns:\",len(df.select_dtypes(include='int64').columns))"
      ],
      "execution_count": 11,
      "outputs": [
        {
          "output_type": "stream",
          "text": [
            "object columns: 5\n",
            "int columns: 1\n"
          ],
          "name": "stdout"
        }
      ]
    },
    {
      "cell_type": "code",
      "metadata": {
        "id": "-kTMQkVQceXl",
        "colab_type": "code",
        "colab": {
          "base_uri": "https://localhost:8080/",
          "height": 166
        },
        "outputId": "512fa405-d7a6-45b1-d1b5-08279caea34c"
      },
      "source": [
        "# Using describe function observe the different measures for numerical and categorical columns\n",
        "df.describe(include=\"object\")"
      ],
      "execution_count": 12,
      "outputs": [
        {
          "output_type": "execute_result",
          "data": {
            "text/html": [
              "<div>\n",
              "<style scoped>\n",
              "    .dataframe tbody tr th:only-of-type {\n",
              "        vertical-align: middle;\n",
              "    }\n",
              "\n",
              "    .dataframe tbody tr th {\n",
              "        vertical-align: top;\n",
              "    }\n",
              "\n",
              "    .dataframe thead th {\n",
              "        text-align: right;\n",
              "    }\n",
              "</style>\n",
              "<table border=\"1\" class=\"dataframe\">\n",
              "  <thead>\n",
              "    <tr style=\"text-align: right;\">\n",
              "      <th></th>\n",
              "      <th>my_datetime</th>\n",
              "      <th>event</th>\n",
              "      <th>country_code</th>\n",
              "      <th>source</th>\n",
              "      <th>country</th>\n",
              "    </tr>\n",
              "  </thead>\n",
              "  <tbody>\n",
              "    <tr>\n",
              "      <th>count</th>\n",
              "      <td>1795</td>\n",
              "      <td>1795</td>\n",
              "      <td>1795</td>\n",
              "      <td>1795</td>\n",
              "      <td>1795</td>\n",
              "    </tr>\n",
              "    <tr>\n",
              "      <th>unique</th>\n",
              "      <td>1773</td>\n",
              "      <td>1</td>\n",
              "      <td>8</td>\n",
              "      <td>3</td>\n",
              "      <td>6</td>\n",
              "    </tr>\n",
              "    <tr>\n",
              "      <th>top</th>\n",
              "      <td>2018-01-01 03:10:36</td>\n",
              "      <td>read</td>\n",
              "      <td>country_2</td>\n",
              "      <td>Reddit</td>\n",
              "      <td>Asia</td>\n",
              "    </tr>\n",
              "    <tr>\n",
              "      <th>freq</th>\n",
              "      <td>3</td>\n",
              "      <td>1795</td>\n",
              "      <td>462</td>\n",
              "      <td>949</td>\n",
              "      <td>667</td>\n",
              "    </tr>\n",
              "  </tbody>\n",
              "</table>\n",
              "</div>"
            ],
            "text/plain": [
              "                my_datetime event country_code  source country\n",
              "count                  1795  1795         1795    1795    1795\n",
              "unique                 1773     1            8       3       6\n",
              "top     2018-01-01 03:10:36  read    country_2  Reddit    Asia\n",
              "freq                      3  1795          462     949     667"
            ]
          },
          "metadata": {
            "tags": []
          },
          "execution_count": 12
        }
      ]
    },
    {
      "cell_type": "code",
      "metadata": {
        "id": "m-pLONElcgyS",
        "colab_type": "code",
        "colab": {
          "base_uri": "https://localhost:8080/",
          "height": 284
        },
        "outputId": "72c76a3f-e487-41f3-deaa-2a21fb1e56e5"
      },
      "source": [
        "#for nuerical columns\n",
        "df.describe()   # by default describe() works only on numeric data"
      ],
      "execution_count": 13,
      "outputs": [
        {
          "output_type": "execute_result",
          "data": {
            "text/html": [
              "<div>\n",
              "<style scoped>\n",
              "    .dataframe tbody tr th:only-of-type {\n",
              "        vertical-align: middle;\n",
              "    }\n",
              "\n",
              "    .dataframe tbody tr th {\n",
              "        vertical-align: top;\n",
              "    }\n",
              "\n",
              "    .dataframe thead th {\n",
              "        text-align: right;\n",
              "    }\n",
              "</style>\n",
              "<table border=\"1\" class=\"dataframe\">\n",
              "  <thead>\n",
              "    <tr style=\"text-align: right;\">\n",
              "      <th></th>\n",
              "      <th>user_id</th>\n",
              "    </tr>\n",
              "  </thead>\n",
              "  <tbody>\n",
              "    <tr>\n",
              "      <th>count</th>\n",
              "      <td>1.795000e+03</td>\n",
              "    </tr>\n",
              "    <tr>\n",
              "      <th>mean</th>\n",
              "      <td>2.458152e+09</td>\n",
              "    </tr>\n",
              "    <tr>\n",
              "      <th>std</th>\n",
              "      <td>5.183162e+02</td>\n",
              "    </tr>\n",
              "    <tr>\n",
              "      <th>min</th>\n",
              "      <td>2.458151e+09</td>\n",
              "    </tr>\n",
              "    <tr>\n",
              "      <th>25%</th>\n",
              "      <td>2.458152e+09</td>\n",
              "    </tr>\n",
              "    <tr>\n",
              "      <th>50%</th>\n",
              "      <td>2.458152e+09</td>\n",
              "    </tr>\n",
              "    <tr>\n",
              "      <th>75%</th>\n",
              "      <td>2.458153e+09</td>\n",
              "    </tr>\n",
              "    <tr>\n",
              "      <th>max</th>\n",
              "      <td>2.458153e+09</td>\n",
              "    </tr>\n",
              "  </tbody>\n",
              "</table>\n",
              "</div>"
            ],
            "text/plain": [
              "            user_id\n",
              "count  1.795000e+03\n",
              "mean   2.458152e+09\n",
              "std    5.183162e+02\n",
              "min    2.458151e+09\n",
              "25%    2.458152e+09\n",
              "50%    2.458152e+09\n",
              "75%    2.458153e+09\n",
              "max    2.458153e+09"
            ]
          },
          "metadata": {
            "tags": []
          },
          "execution_count": 13
        }
      ]
    },
    {
      "cell_type": "code",
      "metadata": {
        "id": "DsGH-MMbckCy",
        "colab_type": "code",
        "colab": {
          "base_uri": "https://localhost:8080/",
          "height": 235
        },
        "outputId": "b1a39155-ddb7-4281-d624-b8cd098b28c8"
      },
      "source": [
        "# Use the info function to get the detailed info of the dataframe\n",
        "df.info()"
      ],
      "execution_count": 14,
      "outputs": [
        {
          "output_type": "stream",
          "text": [
            "<class 'pandas.core.frame.DataFrame'>\n",
            "RangeIndex: 1795 entries, 0 to 1794\n",
            "Data columns (total 6 columns):\n",
            " #   Column        Non-Null Count  Dtype \n",
            "---  ------        --------------  ----- \n",
            " 0   my_datetime   1795 non-null   object\n",
            " 1   event         1795 non-null   object\n",
            " 2   country_code  1795 non-null   object\n",
            " 3   user_id       1795 non-null   int64 \n",
            " 4   source        1795 non-null   object\n",
            " 5   country       1795 non-null   object\n",
            "dtypes: int64(1), object(5)\n",
            "memory usage: 84.3+ KB\n"
          ],
          "name": "stdout"
        }
      ]
    },
    {
      "cell_type": "code",
      "metadata": {
        "id": "ca-gDMJZcrl-",
        "colab_type": "code",
        "colab": {
          "base_uri": "https://localhost:8080/",
          "height": 47
        },
        "outputId": "65157629-b47c-4e41-9787-122ef856f204"
      },
      "source": [
        "df[df.duplicated()] #all columns have duplicates"
      ],
      "execution_count": 15,
      "outputs": [
        {
          "output_type": "execute_result",
          "data": {
            "text/html": [
              "<div>\n",
              "<style scoped>\n",
              "    .dataframe tbody tr th:only-of-type {\n",
              "        vertical-align: middle;\n",
              "    }\n",
              "\n",
              "    .dataframe tbody tr th {\n",
              "        vertical-align: top;\n",
              "    }\n",
              "\n",
              "    .dataframe thead th {\n",
              "        text-align: right;\n",
              "    }\n",
              "</style>\n",
              "<table border=\"1\" class=\"dataframe\">\n",
              "  <thead>\n",
              "    <tr style=\"text-align: right;\">\n",
              "      <th></th>\n",
              "      <th>my_datetime</th>\n",
              "      <th>event</th>\n",
              "      <th>country_code</th>\n",
              "      <th>user_id</th>\n",
              "      <th>source</th>\n",
              "      <th>country</th>\n",
              "    </tr>\n",
              "  </thead>\n",
              "  <tbody>\n",
              "  </tbody>\n",
              "</table>\n",
              "</div>"
            ],
            "text/plain": [
              "Empty DataFrame\n",
              "Columns: [my_datetime, event, country_code, user_id, source, country]\n",
              "Index: []"
            ]
          },
          "metadata": {
            "tags": []
          },
          "execution_count": 15
        }
      ]
    },
    {
      "cell_type": "code",
      "metadata": {
        "id": "37GzoDofct3I",
        "colab_type": "code",
        "colab": {
          "base_uri": "https://localhost:8080/",
          "height": 1000
        },
        "outputId": "0fc6e9ea-4be9-47fc-b874-12bd97bb0b01"
      },
      "source": [
        "# Check for the duplicate values in all the columns\n",
        "for i in df.columns:\n",
        "    print(i,\"\\n\",df[df[i].duplicated()],\"\\n\\n\")"
      ],
      "execution_count": 16,
      "outputs": [
        {
          "output_type": "stream",
          "text": [
            "my_datetime \n",
            "               my_datetime event  ...   source        country\n",
            "85    2018-01-01 01:17:48  read  ...   Reddit           Asia\n",
            "96    2018-01-01 01:23:44  read  ...  AdWords           Asia\n",
            "194   2018-01-01 02:46:20  read  ...      SEO  North America\n",
            "226   2018-01-01 03:10:36  read  ...   Reddit  North America\n",
            "227   2018-01-01 03:10:36  read  ...  AdWords      Australia\n",
            "267   2018-01-01 03:31:51  read  ...  AdWords           Asia\n",
            "337   2018-01-01 04:26:24  read  ...  AdWords         Europe\n",
            "416   2018-01-01 05:44:15  read  ...   Reddit  North America\n",
            "420   2018-01-01 05:47:29  read  ...   Reddit         Europe\n",
            "422   2018-01-01 05:47:50  read  ...   Reddit           Asia\n",
            "458   2018-01-01 06:09:59  read  ...   Reddit           Asia\n",
            "495   2018-01-01 06:38:26  read  ...   Reddit  South America\n",
            "721   2018-01-01 09:48:57  read  ...   Reddit  North America\n",
            "738   2018-01-01 10:00:14  read  ...   Reddit           Asia\n",
            "772   2018-01-01 10:22:10  read  ...   Reddit         Africa\n",
            "912   2018-01-01 12:14:20  read  ...      SEO  North America\n",
            "1302  2018-01-01 17:39:00  read  ...  AdWords         Europe\n",
            "1494  2018-01-01 20:20:34  read  ...   Reddit         Africa\n",
            "1536  2018-01-01 20:52:13  read  ...  AdWords  North America\n",
            "1660  2018-01-01 22:27:20  read  ...   Reddit         Africa\n",
            "1731  2018-01-01 23:16:19  read  ...   Reddit  South America\n",
            "1793  2018-01-01 23:59:36  read  ...  AdWords         Europe\n",
            "\n",
            "[22 rows x 6 columns] \n",
            "\n",
            "\n",
            "event \n",
            "               my_datetime event  ...   source        country\n",
            "1     2018-01-01 00:03:20  read  ...      SEO  South America\n",
            "2     2018-01-01 00:04:01  read  ...  AdWords         Africa\n",
            "3     2018-01-01 00:04:02  read  ...  AdWords         Europe\n",
            "4     2018-01-01 00:05:03  read  ...   Reddit  North America\n",
            "5     2018-01-01 00:05:42  read  ...   Reddit  North America\n",
            "...                   ...   ...  ...      ...            ...\n",
            "1790  2018-01-01 23:57:14  read  ...  AdWords  North America\n",
            "1791  2018-01-01 23:58:33  read  ...      SEO           Asia\n",
            "1792  2018-01-01 23:59:36  read  ...   Reddit           Asia\n",
            "1793  2018-01-01 23:59:36  read  ...  AdWords         Europe\n",
            "1794  2018-01-01 23:59:38  read  ...   Reddit           Asia\n",
            "\n",
            "[1794 rows x 6 columns] \n",
            "\n",
            "\n",
            "country_code \n",
            "               my_datetime event  ...   source        country\n",
            "1     2018-01-01 00:03:20  read  ...      SEO  South America\n",
            "2     2018-01-01 00:04:01  read  ...  AdWords         Africa\n",
            "3     2018-01-01 00:04:02  read  ...  AdWords         Europe\n",
            "7     2018-01-01 00:06:15  read  ...  AdWords         Europe\n",
            "8     2018-01-01 00:07:21  read  ...  AdWords  North America\n",
            "...                   ...   ...  ...      ...            ...\n",
            "1790  2018-01-01 23:57:14  read  ...  AdWords  North America\n",
            "1791  2018-01-01 23:58:33  read  ...      SEO           Asia\n",
            "1792  2018-01-01 23:59:36  read  ...   Reddit           Asia\n",
            "1793  2018-01-01 23:59:36  read  ...  AdWords         Europe\n",
            "1794  2018-01-01 23:59:38  read  ...   Reddit           Asia\n",
            "\n",
            "[1787 rows x 6 columns] \n",
            "\n",
            "\n",
            "user_id \n",
            " Empty DataFrame\n",
            "Columns: [my_datetime, event, country_code, user_id, source, country]\n",
            "Index: [] \n",
            "\n",
            "\n",
            "source \n",
            "               my_datetime event  ...   source        country\n",
            "1     2018-01-01 00:03:20  read  ...      SEO  South America\n",
            "3     2018-01-01 00:04:02  read  ...  AdWords         Europe\n",
            "5     2018-01-01 00:05:42  read  ...   Reddit  North America\n",
            "6     2018-01-01 00:06:06  read  ...   Reddit         Europe\n",
            "7     2018-01-01 00:06:15  read  ...  AdWords         Europe\n",
            "...                   ...   ...  ...      ...            ...\n",
            "1790  2018-01-01 23:57:14  read  ...  AdWords  North America\n",
            "1791  2018-01-01 23:58:33  read  ...      SEO           Asia\n",
            "1792  2018-01-01 23:59:36  read  ...   Reddit           Asia\n",
            "1793  2018-01-01 23:59:36  read  ...  AdWords         Europe\n",
            "1794  2018-01-01 23:59:38  read  ...   Reddit           Asia\n",
            "\n",
            "[1792 rows x 6 columns] \n",
            "\n",
            "\n",
            "country \n",
            "               my_datetime event  ...   source        country\n",
            "4     2018-01-01 00:05:03  read  ...   Reddit  North America\n",
            "5     2018-01-01 00:05:42  read  ...   Reddit  North America\n",
            "6     2018-01-01 00:06:06  read  ...   Reddit         Europe\n",
            "7     2018-01-01 00:06:15  read  ...  AdWords         Europe\n",
            "8     2018-01-01 00:07:21  read  ...  AdWords  North America\n",
            "...                   ...   ...  ...      ...            ...\n",
            "1790  2018-01-01 23:57:14  read  ...  AdWords  North America\n",
            "1791  2018-01-01 23:58:33  read  ...      SEO           Asia\n",
            "1792  2018-01-01 23:59:36  read  ...   Reddit           Asia\n",
            "1793  2018-01-01 23:59:36  read  ...  AdWords         Europe\n",
            "1794  2018-01-01 23:59:38  read  ...   Reddit           Asia\n",
            "\n",
            "[1789 rows x 6 columns] \n",
            "\n",
            "\n"
          ],
          "name": "stdout"
        }
      ]
    },
    {
      "cell_type": "code",
      "metadata": {
        "id": "h0C66FBpcwMj",
        "colab_type": "code",
        "colab": {
          "base_uri": "https://localhost:8080/",
          "height": 195
        },
        "outputId": "dd17dcb9-f91b-4ad3-b997-78fcb13e9df0"
      },
      "source": [
        "\n",
        "#Replace the value “South America” from country column with NaN and fill with mode of the column\n",
        "df1 = df.replace({\"country\":\"South America\"},np.nan)\n",
        "df1.head()"
      ],
      "execution_count": 17,
      "outputs": [
        {
          "output_type": "execute_result",
          "data": {
            "text/html": [
              "<div>\n",
              "<style scoped>\n",
              "    .dataframe tbody tr th:only-of-type {\n",
              "        vertical-align: middle;\n",
              "    }\n",
              "\n",
              "    .dataframe tbody tr th {\n",
              "        vertical-align: top;\n",
              "    }\n",
              "\n",
              "    .dataframe thead th {\n",
              "        text-align: right;\n",
              "    }\n",
              "</style>\n",
              "<table border=\"1\" class=\"dataframe\">\n",
              "  <thead>\n",
              "    <tr style=\"text-align: right;\">\n",
              "      <th></th>\n",
              "      <th>my_datetime</th>\n",
              "      <th>event</th>\n",
              "      <th>country_code</th>\n",
              "      <th>user_id</th>\n",
              "      <th>source</th>\n",
              "      <th>country</th>\n",
              "    </tr>\n",
              "  </thead>\n",
              "  <tbody>\n",
              "    <tr>\n",
              "      <th>0</th>\n",
              "      <td>2018-01-01 00:01:01</td>\n",
              "      <td>read</td>\n",
              "      <td>country_7</td>\n",
              "      <td>2458151261</td>\n",
              "      <td>SEO</td>\n",
              "      <td>North America</td>\n",
              "    </tr>\n",
              "    <tr>\n",
              "      <th>1</th>\n",
              "      <td>2018-01-01 00:03:20</td>\n",
              "      <td>read</td>\n",
              "      <td>country_7</td>\n",
              "      <td>2458151262</td>\n",
              "      <td>SEO</td>\n",
              "      <td>NaN</td>\n",
              "    </tr>\n",
              "    <tr>\n",
              "      <th>2</th>\n",
              "      <td>2018-01-01 00:04:01</td>\n",
              "      <td>read</td>\n",
              "      <td>country_7</td>\n",
              "      <td>2458151263</td>\n",
              "      <td>AdWords</td>\n",
              "      <td>Africa</td>\n",
              "    </tr>\n",
              "    <tr>\n",
              "      <th>3</th>\n",
              "      <td>2018-01-01 00:04:02</td>\n",
              "      <td>read</td>\n",
              "      <td>country_7</td>\n",
              "      <td>2458151264</td>\n",
              "      <td>AdWords</td>\n",
              "      <td>Europe</td>\n",
              "    </tr>\n",
              "    <tr>\n",
              "      <th>4</th>\n",
              "      <td>2018-01-01 00:05:03</td>\n",
              "      <td>read</td>\n",
              "      <td>country_8</td>\n",
              "      <td>2458151265</td>\n",
              "      <td>Reddit</td>\n",
              "      <td>North America</td>\n",
              "    </tr>\n",
              "  </tbody>\n",
              "</table>\n",
              "</div>"
            ],
            "text/plain": [
              "           my_datetime event country_code     user_id   source        country\n",
              "0  2018-01-01 00:01:01  read    country_7  2458151261      SEO  North America\n",
              "1  2018-01-01 00:03:20  read    country_7  2458151262      SEO            NaN\n",
              "2  2018-01-01 00:04:01  read    country_7  2458151263  AdWords         Africa\n",
              "3  2018-01-01 00:04:02  read    country_7  2458151264  AdWords         Europe\n",
              "4  2018-01-01 00:05:03  read    country_8  2458151265   Reddit  North America"
            ]
          },
          "metadata": {
            "tags": []
          },
          "execution_count": 17
        }
      ]
    },
    {
      "cell_type": "code",
      "metadata": {
        "id": "MIhWscIbc1pI",
        "colab_type": "code",
        "colab": {
          "base_uri": "https://localhost:8080/",
          "height": 402
        },
        "outputId": "dc436c1c-a74f-4926-9760-7c5c06de1561"
      },
      "source": [
        "#Now we fill nan values with mode of country\n",
        "df1[\"country\"] = df1[\"country\"].fillna(df1[\"country\"].mode().iloc[0])\n",
        "df1"
      ],
      "execution_count": 18,
      "outputs": [
        {
          "output_type": "execute_result",
          "data": {
            "text/html": [
              "<div>\n",
              "<style scoped>\n",
              "    .dataframe tbody tr th:only-of-type {\n",
              "        vertical-align: middle;\n",
              "    }\n",
              "\n",
              "    .dataframe tbody tr th {\n",
              "        vertical-align: top;\n",
              "    }\n",
              "\n",
              "    .dataframe thead th {\n",
              "        text-align: right;\n",
              "    }\n",
              "</style>\n",
              "<table border=\"1\" class=\"dataframe\">\n",
              "  <thead>\n",
              "    <tr style=\"text-align: right;\">\n",
              "      <th></th>\n",
              "      <th>my_datetime</th>\n",
              "      <th>event</th>\n",
              "      <th>country_code</th>\n",
              "      <th>user_id</th>\n",
              "      <th>source</th>\n",
              "      <th>country</th>\n",
              "    </tr>\n",
              "  </thead>\n",
              "  <tbody>\n",
              "    <tr>\n",
              "      <th>0</th>\n",
              "      <td>2018-01-01 00:01:01</td>\n",
              "      <td>read</td>\n",
              "      <td>country_7</td>\n",
              "      <td>2458151261</td>\n",
              "      <td>SEO</td>\n",
              "      <td>North America</td>\n",
              "    </tr>\n",
              "    <tr>\n",
              "      <th>1</th>\n",
              "      <td>2018-01-01 00:03:20</td>\n",
              "      <td>read</td>\n",
              "      <td>country_7</td>\n",
              "      <td>2458151262</td>\n",
              "      <td>SEO</td>\n",
              "      <td>Asia</td>\n",
              "    </tr>\n",
              "    <tr>\n",
              "      <th>2</th>\n",
              "      <td>2018-01-01 00:04:01</td>\n",
              "      <td>read</td>\n",
              "      <td>country_7</td>\n",
              "      <td>2458151263</td>\n",
              "      <td>AdWords</td>\n",
              "      <td>Africa</td>\n",
              "    </tr>\n",
              "    <tr>\n",
              "      <th>3</th>\n",
              "      <td>2018-01-01 00:04:02</td>\n",
              "      <td>read</td>\n",
              "      <td>country_7</td>\n",
              "      <td>2458151264</td>\n",
              "      <td>AdWords</td>\n",
              "      <td>Europe</td>\n",
              "    </tr>\n",
              "    <tr>\n",
              "      <th>4</th>\n",
              "      <td>2018-01-01 00:05:03</td>\n",
              "      <td>read</td>\n",
              "      <td>country_8</td>\n",
              "      <td>2458151265</td>\n",
              "      <td>Reddit</td>\n",
              "      <td>North America</td>\n",
              "    </tr>\n",
              "    <tr>\n",
              "      <th>...</th>\n",
              "      <td>...</td>\n",
              "      <td>...</td>\n",
              "      <td>...</td>\n",
              "      <td>...</td>\n",
              "      <td>...</td>\n",
              "      <td>...</td>\n",
              "    </tr>\n",
              "    <tr>\n",
              "      <th>1790</th>\n",
              "      <td>2018-01-01 23:57:14</td>\n",
              "      <td>read</td>\n",
              "      <td>country_2</td>\n",
              "      <td>2458153051</td>\n",
              "      <td>AdWords</td>\n",
              "      <td>North America</td>\n",
              "    </tr>\n",
              "    <tr>\n",
              "      <th>1791</th>\n",
              "      <td>2018-01-01 23:58:33</td>\n",
              "      <td>read</td>\n",
              "      <td>country_8</td>\n",
              "      <td>2458153052</td>\n",
              "      <td>SEO</td>\n",
              "      <td>Asia</td>\n",
              "    </tr>\n",
              "    <tr>\n",
              "      <th>1792</th>\n",
              "      <td>2018-01-01 23:59:36</td>\n",
              "      <td>read</td>\n",
              "      <td>country_6</td>\n",
              "      <td>2458153053</td>\n",
              "      <td>Reddit</td>\n",
              "      <td>Asia</td>\n",
              "    </tr>\n",
              "    <tr>\n",
              "      <th>1793</th>\n",
              "      <td>2018-01-01 23:59:36</td>\n",
              "      <td>read</td>\n",
              "      <td>country_7</td>\n",
              "      <td>2458153054</td>\n",
              "      <td>AdWords</td>\n",
              "      <td>Europe</td>\n",
              "    </tr>\n",
              "    <tr>\n",
              "      <th>1794</th>\n",
              "      <td>2018-01-01 23:59:38</td>\n",
              "      <td>read</td>\n",
              "      <td>country_5</td>\n",
              "      <td>2458153055</td>\n",
              "      <td>Reddit</td>\n",
              "      <td>Asia</td>\n",
              "    </tr>\n",
              "  </tbody>\n",
              "</table>\n",
              "<p>1795 rows × 6 columns</p>\n",
              "</div>"
            ],
            "text/plain": [
              "              my_datetime event  ...   source        country\n",
              "0     2018-01-01 00:01:01  read  ...      SEO  North America\n",
              "1     2018-01-01 00:03:20  read  ...      SEO           Asia\n",
              "2     2018-01-01 00:04:01  read  ...  AdWords         Africa\n",
              "3     2018-01-01 00:04:02  read  ...  AdWords         Europe\n",
              "4     2018-01-01 00:05:03  read  ...   Reddit  North America\n",
              "...                   ...   ...  ...      ...            ...\n",
              "1790  2018-01-01 23:57:14  read  ...  AdWords  North America\n",
              "1791  2018-01-01 23:58:33  read  ...      SEO           Asia\n",
              "1792  2018-01-01 23:59:36  read  ...   Reddit           Asia\n",
              "1793  2018-01-01 23:59:36  read  ...  AdWords         Europe\n",
              "1794  2018-01-01 23:59:38  read  ...   Reddit           Asia\n",
              "\n",
              "[1795 rows x 6 columns]"
            ]
          },
          "metadata": {
            "tags": []
          },
          "execution_count": 18
        }
      ]
    },
    {
      "cell_type": "code",
      "metadata": {
        "id": "NowmFhnPc3up",
        "colab_type": "code",
        "colab": {
          "base_uri": "https://localhost:8080/",
          "height": 84
        },
        "outputId": "712d071f-cc30-4a6f-c37b-2627e335aad3"
      },
      "source": [
        "#Check the count of categories being repeated in the source column.\n",
        "df[\"source\"].value_counts()"
      ],
      "execution_count": 19,
      "outputs": [
        {
          "output_type": "execute_result",
          "data": {
            "text/plain": [
              "Reddit     949\n",
              "AdWords    500\n",
              "SEO        346\n",
              "Name: source, dtype: int64"
            ]
          },
          "metadata": {
            "tags": []
          },
          "execution_count": 19
        }
      ]
    },
    {
      "cell_type": "code",
      "metadata": {
        "id": "7X6_WcZ8c72v",
        "colab_type": "code",
        "colab": {}
      },
      "source": [
        ""
      ],
      "execution_count": 0,
      "outputs": []
    }
  ]
}