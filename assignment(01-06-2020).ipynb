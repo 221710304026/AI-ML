{
 "cells": [
  {
   "cell_type": "code",
   "execution_count": 8,
   "metadata": {},
   "outputs": [],
   "source": [
    "# folder--> 5 files-->unique-->\n",
    "import os\n",
    "import string\n",
    "import random\n",
    "#os.mkdir(\"python class\")\n",
    "for i in range (5):\n",
    "    file_name=\"C:\\\\Users\\\\USER\\\\Desktop\\\\summer internship\\\\AI ML\\\\python class\\\\file%d\"%(i)\n",
    "    f=open(file_name,\"a\")\n",
    "    data=\"\"\n",
    "    for i in range(512):\n",
    "        data=data+random.choice(string.ascii_letters)\n",
    "    f.write(data)\n",
    "    f.close()"
   ]
  },
  {
   "cell_type": "code",
   "execution_count": 3,
   "metadata": {},
   "outputs": [
    {
     "data": {
      "text/plain": [
       "'C:\\\\Users\\\\USER\\\\Desktop\\\\summer internship\\\\AI ML'"
      ]
     },
     "execution_count": 3,
     "metadata": {},
     "output_type": "execute_result"
    }
   ],
   "source": [
    "pwd"
   ]
  },
  {
   "cell_type": "code",
   "execution_count": null,
   "metadata": {},
   "outputs": [],
   "source": []
  }
 ],
 "metadata": {
  "kernelspec": {
   "display_name": "Python 3",
   "language": "python",
   "name": "python3"
  },
  "language_info": {
   "codemirror_mode": {
    "name": "ipython",
    "version": 3
   },
   "file_extension": ".py",
   "mimetype": "text/x-python",
   "name": "python",
   "nbconvert_exporter": "python",
   "pygments_lexer": "ipython3",
   "version": "3.7.4"
  }
 },
 "nbformat": 4,
 "nbformat_minor": 2
}
