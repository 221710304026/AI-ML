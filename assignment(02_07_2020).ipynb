{
  "nbformat": 4,
  "nbformat_minor": 0,
  "metadata": {
    "colab": {
      "name": "assignment(02-07-202-).ipynb",
      "provenance": []
    },
    "kernelspec": {
      "name": "python3",
      "display_name": "Python 3"
    }
  },
  "cells": [
    {
      "cell_type": "markdown",
      "metadata": {
        "id": "fd2H1-US9fA7",
        "colab_type": "text"
      },
      "source": [
        "# CSE - 221710304026 - KANNURI VIJAYA LAKSHMI\n",
        "##### Read the below corpus:\n",
        "\n",
        "corpus = [\n",
        "   'This is the first document.',\n",
        "     'This document is the second document.',\n",
        "      'And this is the third(#)  one.',\n",
        "     'Is this the first document?',\n",
        "     \"The quick brown fox jumped over the lazy dog.\",\n",
        "     \"John is a good boy!!!. John watches basketball\",\n",
        "     “ We are going to the party:-)”,\n",
        "     “ It is very cold(today)”,\n",
        "\n",
        " ]\n",
        "\n",
        "Remove all the punctuations from the corpus\n",
        "Store the sentences\n",
        "Store the individual words out of all sentences\n",
        "Accept the following list of words and find the unique words count from the list without using CountVectorizer and print the output as a DataFrame\n",
        "\n",
        "\n"
      ]
    },
    {
      "cell_type": "code",
      "metadata": {
        "id": "TybSLpYk9fTr",
        "colab_type": "code",
        "colab": {}
      },
      "source": [
        "import numpy as np\n",
        "import pandas as pd\n",
        "import string"
      ],
      "execution_count": 1,
      "outputs": []
    },
    {
      "cell_type": "code",
      "metadata": {
        "id": "-i67YPno93dn",
        "colab_type": "code",
        "colab": {}
      },
      "source": [
        "corpus = [\n",
        "   'This is the first document.',\n",
        "     'This document is the second document.',\n",
        "      'And this is the third(#)  one.',\n",
        "     'Is this the first document?',\n",
        "     \"The quick brown fox jumped over the lazy dog.\",\n",
        "     \"John is a good boy!!!. John watches basketball\",\n",
        "     \" We are going to the party:-)\",\n",
        "     \" It is very cold(today)\",]"
      ],
      "execution_count": 2,
      "outputs": []
    },
    {
      "cell_type": "code",
      "metadata": {
        "id": "2XIFbipc96iJ",
        "colab_type": "code",
        "colab": {}
      },
      "source": [
        "#Remove all the punctuations from the corpus\n",
        "words=dict()\n",
        "corpus_pun=[]\n",
        "for line in corpus:\n",
        "    s=' '\n",
        "    for i in line:\n",
        "        if i not in string.punctuation:\n",
        "            s+=i\n",
        "    corpus_pun.append(s)\n",
        "    word=s.lower().split()\n",
        "    for w in word:\n",
        "        words[w]=words.get(w,0)+1"
      ],
      "execution_count": 3,
      "outputs": []
    },
    {
      "cell_type": "code",
      "metadata": {
        "id": "s6AAB3Xe99qq",
        "colab_type": "code",
        "colab": {
          "base_uri": "https://localhost:8080/",
          "height": 158
        },
        "outputId": "3a8eedd3-7815-40c4-8a51-650aa6d7890b"
      },
      "source": [
        "corpus_pun #Store the sentences"
      ],
      "execution_count": 4,
      "outputs": [
        {
          "output_type": "execute_result",
          "data": {
            "text/plain": [
              "[' This is the first document',\n",
              " ' This document is the second document',\n",
              " ' And this is the third  one',\n",
              " ' Is this the first document',\n",
              " ' The quick brown fox jumped over the lazy dog',\n",
              " ' John is a good boy John watches basketball',\n",
              " '  We are going to the party',\n",
              " '  It is very coldtoday']"
            ]
          },
          "metadata": {
            "tags": []
          },
          "execution_count": 4
        }
      ]
    },
    {
      "cell_type": "code",
      "metadata": {
        "id": "zF6qLlY2-AY2",
        "colab_type": "code",
        "colab": {
          "base_uri": "https://localhost:8080/",
          "height": 550
        },
        "outputId": "a81b7557-420c-41b4-c178-12e8c35fbf32"
      },
      "source": [
        "words #Store the individual words out of all sentences"
      ],
      "execution_count": 5,
      "outputs": [
        {
          "output_type": "execute_result",
          "data": {
            "text/plain": [
              "{'a': 1,\n",
              " 'and': 1,\n",
              " 'are': 1,\n",
              " 'basketball': 1,\n",
              " 'boy': 1,\n",
              " 'brown': 1,\n",
              " 'coldtoday': 1,\n",
              " 'document': 4,\n",
              " 'dog': 1,\n",
              " 'first': 2,\n",
              " 'fox': 1,\n",
              " 'going': 1,\n",
              " 'good': 1,\n",
              " 'is': 6,\n",
              " 'it': 1,\n",
              " 'john': 2,\n",
              " 'jumped': 1,\n",
              " 'lazy': 1,\n",
              " 'one': 1,\n",
              " 'over': 1,\n",
              " 'party': 1,\n",
              " 'quick': 1,\n",
              " 'second': 1,\n",
              " 'the': 7,\n",
              " 'third': 1,\n",
              " 'this': 4,\n",
              " 'to': 1,\n",
              " 'very': 1,\n",
              " 'watches': 1,\n",
              " 'we': 1}"
            ]
          },
          "metadata": {
            "tags": []
          },
          "execution_count": 5
        }
      ]
    },
    {
      "cell_type": "code",
      "metadata": {
        "id": "Qsyo0Mvb-DUF",
        "colab_type": "code",
        "colab": {}
      },
      "source": [
        "#Accept the following list of words and find the unique words count from the list without using CountVectorizer and print the\n",
        "# output as a DataFrame\n",
        "col1=list(words.keys())\n",
        "col2=list(words.values())\n",
        "corpusdf=pd.DataFrame(np.array([col1,col2])).transpose()\n",
        "corpusdf.rename(columns={0:\"words\",1:\"count\"},inplace=True)"
      ],
      "execution_count": 6,
      "outputs": []
    },
    {
      "cell_type": "code",
      "metadata": {
        "id": "bKAYdw9E-Hwu",
        "colab_type": "code",
        "colab": {
          "base_uri": "https://localhost:8080/",
          "height": 947
        },
        "outputId": "c9a0ec22-adda-44a8-d412-c9f30ed5b925"
      },
      "source": [
        "corpusdf"
      ],
      "execution_count": 7,
      "outputs": [
        {
          "output_type": "execute_result",
          "data": {
            "text/html": [
              "<div>\n",
              "<style scoped>\n",
              "    .dataframe tbody tr th:only-of-type {\n",
              "        vertical-align: middle;\n",
              "    }\n",
              "\n",
              "    .dataframe tbody tr th {\n",
              "        vertical-align: top;\n",
              "    }\n",
              "\n",
              "    .dataframe thead th {\n",
              "        text-align: right;\n",
              "    }\n",
              "</style>\n",
              "<table border=\"1\" class=\"dataframe\">\n",
              "  <thead>\n",
              "    <tr style=\"text-align: right;\">\n",
              "      <th></th>\n",
              "      <th>words</th>\n",
              "      <th>count</th>\n",
              "    </tr>\n",
              "  </thead>\n",
              "  <tbody>\n",
              "    <tr>\n",
              "      <th>0</th>\n",
              "      <td>this</td>\n",
              "      <td>4</td>\n",
              "    </tr>\n",
              "    <tr>\n",
              "      <th>1</th>\n",
              "      <td>is</td>\n",
              "      <td>6</td>\n",
              "    </tr>\n",
              "    <tr>\n",
              "      <th>2</th>\n",
              "      <td>the</td>\n",
              "      <td>7</td>\n",
              "    </tr>\n",
              "    <tr>\n",
              "      <th>3</th>\n",
              "      <td>first</td>\n",
              "      <td>2</td>\n",
              "    </tr>\n",
              "    <tr>\n",
              "      <th>4</th>\n",
              "      <td>document</td>\n",
              "      <td>4</td>\n",
              "    </tr>\n",
              "    <tr>\n",
              "      <th>5</th>\n",
              "      <td>second</td>\n",
              "      <td>1</td>\n",
              "    </tr>\n",
              "    <tr>\n",
              "      <th>6</th>\n",
              "      <td>and</td>\n",
              "      <td>1</td>\n",
              "    </tr>\n",
              "    <tr>\n",
              "      <th>7</th>\n",
              "      <td>third</td>\n",
              "      <td>1</td>\n",
              "    </tr>\n",
              "    <tr>\n",
              "      <th>8</th>\n",
              "      <td>one</td>\n",
              "      <td>1</td>\n",
              "    </tr>\n",
              "    <tr>\n",
              "      <th>9</th>\n",
              "      <td>quick</td>\n",
              "      <td>1</td>\n",
              "    </tr>\n",
              "    <tr>\n",
              "      <th>10</th>\n",
              "      <td>brown</td>\n",
              "      <td>1</td>\n",
              "    </tr>\n",
              "    <tr>\n",
              "      <th>11</th>\n",
              "      <td>fox</td>\n",
              "      <td>1</td>\n",
              "    </tr>\n",
              "    <tr>\n",
              "      <th>12</th>\n",
              "      <td>jumped</td>\n",
              "      <td>1</td>\n",
              "    </tr>\n",
              "    <tr>\n",
              "      <th>13</th>\n",
              "      <td>over</td>\n",
              "      <td>1</td>\n",
              "    </tr>\n",
              "    <tr>\n",
              "      <th>14</th>\n",
              "      <td>lazy</td>\n",
              "      <td>1</td>\n",
              "    </tr>\n",
              "    <tr>\n",
              "      <th>15</th>\n",
              "      <td>dog</td>\n",
              "      <td>1</td>\n",
              "    </tr>\n",
              "    <tr>\n",
              "      <th>16</th>\n",
              "      <td>john</td>\n",
              "      <td>2</td>\n",
              "    </tr>\n",
              "    <tr>\n",
              "      <th>17</th>\n",
              "      <td>a</td>\n",
              "      <td>1</td>\n",
              "    </tr>\n",
              "    <tr>\n",
              "      <th>18</th>\n",
              "      <td>good</td>\n",
              "      <td>1</td>\n",
              "    </tr>\n",
              "    <tr>\n",
              "      <th>19</th>\n",
              "      <td>boy</td>\n",
              "      <td>1</td>\n",
              "    </tr>\n",
              "    <tr>\n",
              "      <th>20</th>\n",
              "      <td>watches</td>\n",
              "      <td>1</td>\n",
              "    </tr>\n",
              "    <tr>\n",
              "      <th>21</th>\n",
              "      <td>basketball</td>\n",
              "      <td>1</td>\n",
              "    </tr>\n",
              "    <tr>\n",
              "      <th>22</th>\n",
              "      <td>we</td>\n",
              "      <td>1</td>\n",
              "    </tr>\n",
              "    <tr>\n",
              "      <th>23</th>\n",
              "      <td>are</td>\n",
              "      <td>1</td>\n",
              "    </tr>\n",
              "    <tr>\n",
              "      <th>24</th>\n",
              "      <td>going</td>\n",
              "      <td>1</td>\n",
              "    </tr>\n",
              "    <tr>\n",
              "      <th>25</th>\n",
              "      <td>to</td>\n",
              "      <td>1</td>\n",
              "    </tr>\n",
              "    <tr>\n",
              "      <th>26</th>\n",
              "      <td>party</td>\n",
              "      <td>1</td>\n",
              "    </tr>\n",
              "    <tr>\n",
              "      <th>27</th>\n",
              "      <td>it</td>\n",
              "      <td>1</td>\n",
              "    </tr>\n",
              "    <tr>\n",
              "      <th>28</th>\n",
              "      <td>very</td>\n",
              "      <td>1</td>\n",
              "    </tr>\n",
              "    <tr>\n",
              "      <th>29</th>\n",
              "      <td>coldtoday</td>\n",
              "      <td>1</td>\n",
              "    </tr>\n",
              "  </tbody>\n",
              "</table>\n",
              "</div>"
            ],
            "text/plain": [
              "         words count\n",
              "0         this     4\n",
              "1           is     6\n",
              "2          the     7\n",
              "3        first     2\n",
              "4     document     4\n",
              "5       second     1\n",
              "6          and     1\n",
              "7        third     1\n",
              "8          one     1\n",
              "9        quick     1\n",
              "10       brown     1\n",
              "11         fox     1\n",
              "12      jumped     1\n",
              "13        over     1\n",
              "14        lazy     1\n",
              "15         dog     1\n",
              "16        john     2\n",
              "17           a     1\n",
              "18        good     1\n",
              "19         boy     1\n",
              "20     watches     1\n",
              "21  basketball     1\n",
              "22          we     1\n",
              "23         are     1\n",
              "24       going     1\n",
              "25          to     1\n",
              "26       party     1\n",
              "27          it     1\n",
              "28        very     1\n",
              "29   coldtoday     1"
            ]
          },
          "metadata": {
            "tags": []
          },
          "execution_count": 7
        }
      ]
    },
    {
      "cell_type": "code",
      "metadata": {
        "id": "cNLMS4Lb-KAd",
        "colab_type": "code",
        "colab": {
          "base_uri": "https://localhost:8080/",
          "height": 34
        },
        "outputId": "526afe21-72ab-46fa-9f74-63aeab892159"
      },
      "source": [
        "corpusdf.shape"
      ],
      "execution_count": 8,
      "outputs": [
        {
          "output_type": "execute_result",
          "data": {
            "text/plain": [
              "(30, 2)"
            ]
          },
          "metadata": {
            "tags": []
          },
          "execution_count": 8
        }
      ]
    },
    {
      "cell_type": "code",
      "metadata": {
        "id": "HuLdswz5-Nzl",
        "colab_type": "code",
        "colab": {}
      },
      "source": [
        ""
      ],
      "execution_count": null,
      "outputs": []
    }
  ]
}