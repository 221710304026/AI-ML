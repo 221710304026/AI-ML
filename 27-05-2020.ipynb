{
 "cells": [
  {
   "cell_type": "markdown",
   "metadata": {},
   "source": [
    "Headings:"
   ]
  },
  {
   "cell_type": "markdown",
   "metadata": {},
   "source": [
    "# Python Programming\n",
    "## Python programming\n",
    "### Python Programming\n",
    "#### Python programming\n",
    "##### Python Programming\n"
   ]
  },
  {
   "cell_type": "code",
   "execution_count": 2,
   "metadata": {},
   "outputs": [
    {
     "name": "stdout",
     "output_type": "stream",
     "text": [
      "Hello!!\n"
     ]
    }
   ],
   "source": [
    "print(\"Hello!!\")"
   ]
  },
  {
   "cell_type": "markdown",
   "metadata": {},
   "source": [
    "## List of programing languages:(ordered list)\n",
    "1. python\n",
    "2. java\n",
    "3. c\n",
    "4. c++\n",
    "5. .NET"
   ]
  },
  {
   "cell_type": "markdown",
   "metadata": {},
   "source": [
    "## List of programing languages:(unordered list)\n",
    " - python\n",
    "     - core python\n",
    "     - adv python\n",
    " - java\n",
    " - c\n",
    " - c++\n",
    " - .NET"
   ]
  },
  {
   "cell_type": "markdown",
   "metadata": {},
   "source": [
    "- **Python programming**       (bold)\n",
    "- *Python programming*         (italic)"
   ]
  },
  {
   "cell_type": "markdown",
   "metadata": {},
   "source": [
    "[click here for documentation](https://tinyurl.com/introduction-to-python)"
   ]
  },
  {
   "cell_type": "markdown",
   "metadata": {},
   "source": [
    "![image](data:image/jpeg;base64,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)"
   ]
  },
  {
   "cell_type": "code",
   "execution_count": 3,
   "metadata": {},
   "outputs": [
    {
     "name": "stdout",
     "output_type": "stream",
     "text": [
      "<class 'int'> <class 'float'> <class 'complex'>\n"
     ]
    }
   ],
   "source": [
    "a=10 #integer\n",
    "b=23.5 #float\n",
    "c=12+3j #complex number\n",
    "print(type(a),type(b),type(c))"
   ]
  },
  {
   "cell_type": "code",
   "execution_count": 7,
   "metadata": {},
   "outputs": [
    {
     "name": "stdout",
     "output_type": "stream",
     "text": [
      "6.0\n",
      "8.0\n",
      "(10+13j)\n",
      "(6+8j)\n"
     ]
    }
   ],
   "source": [
    "c1=4+5j\n",
    "c2=complex(6,8)\n",
    "print(c2.real)\n",
    "print(c2.imag)\n",
    "print(c1+c2)\n",
    "print(c2)"
   ]
  },
  {
   "cell_type": "code",
   "execution_count": 16,
   "metadata": {},
   "outputs": [
    {
     "name": "stdout",
     "output_type": "stream",
     "text": [
      "Enter the value of a10\n",
      "Enter the value of b20\n",
      "30 -10,0.5,200\n"
     ]
    }
   ],
   "source": [
    "#input and output functions\n",
    "#input -->input()\n",
    "#output -->print()\n",
    "a=int(input(\"Enter the value of a\"))\n",
    "b=int(input(\"Enter the value of b\"))\n",
    "#end -->new line\n",
    "#sep -->space\n",
    "print(a+b,end=\" \")\n",
    "print(a-b,a/b,a*b,sep=\",\")"
   ]
  },
  {
   "cell_type": "markdown",
   "metadata": {},
   "source": [
    "## operator:symbol which performs some specific task.\n",
    "## operands:values given to operators are known as operands."
   ]
  },
  {
   "cell_type": "code",
   "execution_count": 20,
   "metadata": {},
   "outputs": [
    {
     "name": "stdout",
     "output_type": "stream",
     "text": [
      "Enter a value2\n",
      "Enter b value5\n",
      "7\n",
      "-3\n",
      "10\n",
      "0.4\n",
      "2\n",
      "0\n",
      "32\n"
     ]
    }
   ],
   "source": [
    "#arithmatic operators\n",
    "\n",
    "a=int (input(\"Enter a value\"))\n",
    "b=int (input(\"Enter b value\"))\n",
    "print(a + b)\n",
    "print(a - b)\n",
    "print(a * b)\n",
    "print(a / b) #float quotient\n",
    "print(a % b) #remainder\n",
    "print(a // b)#int quotient\n",
    "print(a ** b)"
   ]
  },
  {
   "cell_type": "code",
   "execution_count": 21,
   "metadata": {},
   "outputs": [
    {
     "name": "stdout",
     "output_type": "stream",
     "text": [
      "True\n",
      "False\n",
      "True\n",
      "False\n",
      "False\n",
      "True\n"
     ]
    }
   ],
   "source": [
    "#Relational operators:<,>,<=,>=,==,!=\n",
    "print(a < b)\n",
    "print(a > b)\n",
    "print(a <= b)\n",
    "print(a >= b) \n",
    "print(a == b) \n",
    "print(a != b)"
   ]
  },
  {
   "cell_type": "code",
   "execution_count": 23,
   "metadata": {},
   "outputs": [
    {
     "name": "stdout",
     "output_type": "stream",
     "text": [
      "\n",
      "Here is a list of the Python keywords.  Enter any keyword to get more help.\n",
      "\n",
      "False               class               from                or\n",
      "None                continue            global              pass\n",
      "True                def                 if                  raise\n",
      "and                 del                 import              return\n",
      "as                  elif                in                  try\n",
      "assert              else                is                  while\n",
      "async               except              lambda              with\n",
      "await               finally             nonlocal            yield\n",
      "break               for                 not                 \n",
      "\n"
     ]
    }
   ],
   "source": [
    "help(\"keywords\")"
   ]
  },
  {
   "cell_type": "code",
   "execution_count": 25,
   "metadata": {},
   "outputs": [
    {
     "name": "stdout",
     "output_type": "stream",
     "text": [
      "True\n",
      "True\n",
      "False\n"
     ]
    }
   ],
   "source": [
    "#Logical operators: and,or,not--->return type Boolean\n",
    "print(a < b and a > 1)\n",
    "print(a < b or a > 1)\n",
    "print(not a < b)"
   ]
  },
  {
   "cell_type": "code",
   "execution_count": 26,
   "metadata": {},
   "outputs": [
    {
     "name": "stdout",
     "output_type": "stream",
     "text": [
      "True\n",
      "False\n",
      "False\n",
      "True\n"
     ]
    }
   ],
   "source": [
    "#Membership operators: in,not in\n",
    "list1 = [12,23,34,45,56,67]\n",
    "print(12 in list1)\n",
    "print(120 in list1)\n",
    "print(12 not in list1)\n",
    "print(120 not in list1)"
   ]
  },
  {
   "cell_type": "code",
   "execution_count": 27,
   "metadata": {},
   "outputs": [
    {
     "name": "stdout",
     "output_type": "stream",
     "text": [
      "a is less than b\n"
     ]
    }
   ],
   "source": [
    "#Conditional statements:if,else,elif\n",
    "if a<b:\n",
    "    print(\"a is less than b\")\n",
    "elif a>b:\n",
    "    print(\"a is greater than b\")\n",
    "else:\n",
    "    print(\"a is equal to b\")"
   ]
  },
  {
   "cell_type": "code",
   "execution_count": 29,
   "metadata": {},
   "outputs": [
    {
     "name": "stdout",
     "output_type": "stream",
     "text": [
      "Enter a value10\n",
      "Enter b value20\n",
      "Enter c value30\n",
      "c is greater\n"
     ]
    }
   ],
   "source": [
    "a=int (input(\"Enter a value\"))\n",
    "b=int (input(\"Enter b value\"))\n",
    "c=int (input(\"Enter c value\"))\n",
    "if(a>b and a>c):\n",
    "    print(\"a is greater\")\n",
    "elif(b>a and b>c):\n",
    "    print(\"b is greater\")\n",
    "else:\n",
    "    print(\"c is greater\")\n",
    "    "
   ]
  },
  {
   "cell_type": "code",
   "execution_count": 31,
   "metadata": {},
   "outputs": [
    {
     "name": "stdout",
     "output_type": "stream",
     "text": [
      "enter n value10\n",
      "1 2 3 4 5 6 7 8 9 10 "
     ]
    }
   ],
   "source": [
    "#Loop : while,for\n",
    "# print 1 to n values\n",
    "n = int (input(\"enter n value\"))\n",
    "i=1\n",
    "while i<=n:\n",
    "    print(i,end=\" \")\n",
    "    i+=1"
   ]
  },
  {
   "cell_type": "code",
   "execution_count": null,
   "metadata": {},
   "outputs": [],
   "source": []
  }
 ],
 "metadata": {
  "kernelspec": {
   "display_name": "Python 3",
   "language": "python",
   "name": "python3"
  },
  "language_info": {
   "codemirror_mode": {
    "name": "ipython",
    "version": 3
   },
   "file_extension": ".py",
   "mimetype": "text/x-python",
   "name": "python",
   "nbconvert_exporter": "python",
   "pygments_lexer": "ipython3",
   "version": "3.7.4"
  }
 },
 "nbformat": 4,
 "nbformat_minor": 2
}
