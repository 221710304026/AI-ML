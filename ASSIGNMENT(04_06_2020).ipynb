{
  "nbformat": 4,
  "nbformat_minor": 0,
  "metadata": {
    "colab": {
      "name": "ASSIGNMENT(04-06-2020).ipynb",
      "provenance": []
    },
    "kernelspec": {
      "name": "python3",
      "display_name": "Python 3"
    }
  },
  "cells": [
    {
      "cell_type": "markdown",
      "metadata": {
        "id": "0wdO8aOQVEaI",
        "colab_type": "text"
      },
      "source": [
        "**CSE-221710304026-K.VIJAYALAKSHMI**"
      ]
    },
    {
      "cell_type": "code",
      "metadata": {
        "id": "-y4g8AisU2mn",
        "colab_type": "code",
        "colab": {}
      },
      "source": [
        "import numpy as np"
      ],
      "execution_count": 0,
      "outputs": []
    },
    {
      "cell_type": "code",
      "metadata": {
        "id": "dvgHVA2GVNOT",
        "colab_type": "code",
        "colab": {
          "base_uri": "https://localhost:8080/",
          "height": 84
        },
        "outputId": "380426e6-6451-4c41-a76a-db4b3922d158"
      },
      "source": [
        "# Reversing an Array\n",
        "arr1=np.arange(12,38)\n",
        "print(arr1)\n",
        "reverse=arr1[::-1]\n",
        "print(reverse)"
      ],
      "execution_count": 3,
      "outputs": [
        {
          "output_type": "stream",
          "text": [
            "[12 13 14 15 16 17 18 19 20 21 22 23 24 25 26 27 28 29 30 31 32 33 34 35\n",
            " 36 37]\n",
            "[37 36 35 34 33 32 31 30 29 28 27 26 25 24 23 22 21 20 19 18 17 16 15 14\n",
            " 13 12]\n"
          ],
          "name": "stdout"
        }
      ]
    },
    {
      "cell_type": "code",
      "metadata": {
        "id": "QddKOb8OVUZH",
        "colab_type": "code",
        "colab": {
          "base_uri": "https://localhost:8080/",
          "height": 101
        },
        "outputId": "e9df34b2-64d2-41e9-a8ce-62cf3d9b1e22"
      },
      "source": [
        "#Write a NumPy program to create a 2d array with 1 on the border and 0 inside. \n",
        "arr= np.ones((5,5))\n",
        "arr[1:-1,1:-1]=0\n",
        "print(arr)"
      ],
      "execution_count": 4,
      "outputs": [
        {
          "output_type": "stream",
          "text": [
            "[[1. 1. 1. 1. 1.]\n",
            " [1. 0. 0. 0. 1.]\n",
            " [1. 0. 0. 0. 1.]\n",
            " [1. 0. 0. 0. 1.]\n",
            " [1. 1. 1. 1. 1.]]\n"
          ],
          "name": "stdout"
        }
      ]
    },
    {
      "cell_type": "code",
      "metadata": {
        "id": "nqv8lPl6VWrG",
        "colab_type": "code",
        "colab": {
          "base_uri": "https://localhost:8080/",
          "height": 67
        },
        "outputId": "81978367-8b4b-46b5-d07e-3236df15a0b9"
      },
      "source": [
        "#Write a NumPy program to test whether each element of a 1-D array is also present in a second array.\n",
        "arr2= np.array([0, 10, 20, 40, 60])\n",
        "print(\"array1: \",arr2)\n",
        "arr3= [0, 40]\n",
        "print(\"array2: \",arr3)\n",
        "print(np.in1d(arr2, arr3))"
      ],
      "execution_count": 5,
      "outputs": [
        {
          "output_type": "stream",
          "text": [
            "array1:  [ 0 10 20 40 60]\n",
            "array2:  [0, 40]\n",
            "[ True False False  True False]\n"
          ],
          "name": "stdout"
        }
      ]
    },
    {
      "cell_type": "code",
      "metadata": {
        "id": "61fRT9jJVZSt",
        "colab_type": "code",
        "colab": {
          "base_uri": "https://localhost:8080/",
          "height": 67
        },
        "outputId": "bd19ce1d-6905-45da-e649-40d544bb749f"
      },
      "source": [
        "# Write a NumPy program to find the set difference of two arrays. The set difference will return the sorted, unique values in array1 that are not in array2.\n",
        "\n",
        "arr4 = np.array([0, 10, 20, 40, 60, 80])\n",
        "print(\"array1: \",arr4)\n",
        "arr5 = [10, 30, 40, 50, 70]\n",
        "print(\"array2: \",arr5)\n",
        "print(np.setdiff1d(arr4, arr5))"
      ],
      "execution_count": 6,
      "outputs": [
        {
          "output_type": "stream",
          "text": [
            "array1:  [ 0 10 20 40 60 80]\n",
            "array2:  [10, 30, 40, 50, 70]\n",
            "[ 0 20 60 80]\n"
          ],
          "name": "stdout"
        }
      ]
    },
    {
      "cell_type": "code",
      "metadata": {
        "id": "aIEDiEUoVcCl",
        "colab_type": "code",
        "colab": {
          "base_uri": "https://localhost:8080/",
          "height": 84
        },
        "outputId": "c4f2f0be-d729-427c-97a3-000935d5f997"
      },
      "source": [
        "# Write a NumPy program to create a 2-D array whose diagonal equals [4, 5, 6, 8] and 0's \n",
        "arr5= np.diagflat([4, 5, 6, 8])\n",
        "print(arr5)"
      ],
      "execution_count": 7,
      "outputs": [
        {
          "output_type": "stream",
          "text": [
            "[[4 0 0 0]\n",
            " [0 5 0 0]\n",
            " [0 0 6 0]\n",
            " [0 0 0 8]]\n"
          ],
          "name": "stdout"
        }
      ]
    },
    {
      "cell_type": "code",
      "metadata": {
        "id": "hPGTCczYVeyU",
        "colab_type": "code",
        "colab": {}
      },
      "source": [
        ""
      ],
      "execution_count": 0,
      "outputs": []
    }
  ]
}