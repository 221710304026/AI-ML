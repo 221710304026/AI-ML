{
  "nbformat": 4,
  "nbformat_minor": 0,
  "metadata": {
    "colab": {
      "name": "Assignment(25-06-2020).ipynb",
      "provenance": []
    },
    "kernelspec": {
      "name": "python3",
      "display_name": "Python 3"
    }
  },
  "cells": [
    {
      "cell_type": "markdown",
      "metadata": {
        "id": "AGvwHDlxIx5M",
        "colab_type": "text"
      },
      "source": [
        "**CSE-221710304026-K.vijayalakshmi**"
      ]
    },
    {
      "cell_type": "code",
      "metadata": {
        "id": "lhXISaQqIsws",
        "colab_type": "code",
        "colab": {
          "base_uri": "https://localhost:8080/",
          "height": 70
        },
        "outputId": "bf37096f-65e3-46af-dcda-437091d75d8a"
      },
      "source": [
        "import pandas as pd\n",
        "import numpy as np\n",
        "import matplotlib.pyplot as plt\n",
        "import seaborn as sns\n",
        "%matplotlib inline"
      ],
      "execution_count": 1,
      "outputs": [
        {
          "output_type": "stream",
          "text": [
            "/usr/local/lib/python3.6/dist-packages/statsmodels/tools/_testing.py:19: FutureWarning: pandas.util.testing is deprecated. Use the functions in the public API at pandas.testing instead.\n",
            "  import pandas.util.testing as tm\n"
          ],
          "name": "stderr"
        }
      ]
    },
    {
      "cell_type": "code",
      "metadata": {
        "id": "LeZGb1E2I4Pq",
        "colab_type": "code",
        "colab": {}
      },
      "source": [
        "from sklearn.metrics import r2_score\n",
        "from sklearn.linear_model import LinearRegression\n",
        "lr=LinearRegression()\n"
      ],
      "execution_count": 2,
      "outputs": []
    },
    {
      "cell_type": "code",
      "metadata": {
        "id": "S2XdX0f4JO4I",
        "colab_type": "code",
        "colab": {
          "base_uri": "https://localhost:8080/",
          "height": 195
        },
        "outputId": "3f382aea-e0f9-4f81-8c4d-f85dabf3b9df"
      },
      "source": [
        "# Loading the dataset from sklearn\n",
        "from sklearn.datasets import load_boston\n",
        "boston=load_boston()\n",
        "df=pd.DataFrame(data=boston.data, columns=boston.feature_names)\n",
        "df['MEDV']=boston.target\n",
        "df.head(5)"
      ],
      "execution_count": 3,
      "outputs": [
        {
          "output_type": "execute_result",
          "data": {
            "text/html": [
              "<div>\n",
              "<style scoped>\n",
              "    .dataframe tbody tr th:only-of-type {\n",
              "        vertical-align: middle;\n",
              "    }\n",
              "\n",
              "    .dataframe tbody tr th {\n",
              "        vertical-align: top;\n",
              "    }\n",
              "\n",
              "    .dataframe thead th {\n",
              "        text-align: right;\n",
              "    }\n",
              "</style>\n",
              "<table border=\"1\" class=\"dataframe\">\n",
              "  <thead>\n",
              "    <tr style=\"text-align: right;\">\n",
              "      <th></th>\n",
              "      <th>CRIM</th>\n",
              "      <th>ZN</th>\n",
              "      <th>INDUS</th>\n",
              "      <th>CHAS</th>\n",
              "      <th>NOX</th>\n",
              "      <th>RM</th>\n",
              "      <th>AGE</th>\n",
              "      <th>DIS</th>\n",
              "      <th>RAD</th>\n",
              "      <th>TAX</th>\n",
              "      <th>PTRATIO</th>\n",
              "      <th>B</th>\n",
              "      <th>LSTAT</th>\n",
              "      <th>MEDV</th>\n",
              "    </tr>\n",
              "  </thead>\n",
              "  <tbody>\n",
              "    <tr>\n",
              "      <th>0</th>\n",
              "      <td>0.00632</td>\n",
              "      <td>18.0</td>\n",
              "      <td>2.31</td>\n",
              "      <td>0.0</td>\n",
              "      <td>0.538</td>\n",
              "      <td>6.575</td>\n",
              "      <td>65.2</td>\n",
              "      <td>4.0900</td>\n",
              "      <td>1.0</td>\n",
              "      <td>296.0</td>\n",
              "      <td>15.3</td>\n",
              "      <td>396.90</td>\n",
              "      <td>4.98</td>\n",
              "      <td>24.0</td>\n",
              "    </tr>\n",
              "    <tr>\n",
              "      <th>1</th>\n",
              "      <td>0.02731</td>\n",
              "      <td>0.0</td>\n",
              "      <td>7.07</td>\n",
              "      <td>0.0</td>\n",
              "      <td>0.469</td>\n",
              "      <td>6.421</td>\n",
              "      <td>78.9</td>\n",
              "      <td>4.9671</td>\n",
              "      <td>2.0</td>\n",
              "      <td>242.0</td>\n",
              "      <td>17.8</td>\n",
              "      <td>396.90</td>\n",
              "      <td>9.14</td>\n",
              "      <td>21.6</td>\n",
              "    </tr>\n",
              "    <tr>\n",
              "      <th>2</th>\n",
              "      <td>0.02729</td>\n",
              "      <td>0.0</td>\n",
              "      <td>7.07</td>\n",
              "      <td>0.0</td>\n",
              "      <td>0.469</td>\n",
              "      <td>7.185</td>\n",
              "      <td>61.1</td>\n",
              "      <td>4.9671</td>\n",
              "      <td>2.0</td>\n",
              "      <td>242.0</td>\n",
              "      <td>17.8</td>\n",
              "      <td>392.83</td>\n",
              "      <td>4.03</td>\n",
              "      <td>34.7</td>\n",
              "    </tr>\n",
              "    <tr>\n",
              "      <th>3</th>\n",
              "      <td>0.03237</td>\n",
              "      <td>0.0</td>\n",
              "      <td>2.18</td>\n",
              "      <td>0.0</td>\n",
              "      <td>0.458</td>\n",
              "      <td>6.998</td>\n",
              "      <td>45.8</td>\n",
              "      <td>6.0622</td>\n",
              "      <td>3.0</td>\n",
              "      <td>222.0</td>\n",
              "      <td>18.7</td>\n",
              "      <td>394.63</td>\n",
              "      <td>2.94</td>\n",
              "      <td>33.4</td>\n",
              "    </tr>\n",
              "    <tr>\n",
              "      <th>4</th>\n",
              "      <td>0.06905</td>\n",
              "      <td>0.0</td>\n",
              "      <td>2.18</td>\n",
              "      <td>0.0</td>\n",
              "      <td>0.458</td>\n",
              "      <td>7.147</td>\n",
              "      <td>54.2</td>\n",
              "      <td>6.0622</td>\n",
              "      <td>3.0</td>\n",
              "      <td>222.0</td>\n",
              "      <td>18.7</td>\n",
              "      <td>396.90</td>\n",
              "      <td>5.33</td>\n",
              "      <td>36.2</td>\n",
              "    </tr>\n",
              "  </tbody>\n",
              "</table>\n",
              "</div>"
            ],
            "text/plain": [
              "      CRIM    ZN  INDUS  CHAS    NOX  ...    TAX  PTRATIO       B  LSTAT  MEDV\n",
              "0  0.00632  18.0   2.31   0.0  0.538  ...  296.0     15.3  396.90   4.98  24.0\n",
              "1  0.02731   0.0   7.07   0.0  0.469  ...  242.0     17.8  396.90   9.14  21.6\n",
              "2  0.02729   0.0   7.07   0.0  0.469  ...  242.0     17.8  392.83   4.03  34.7\n",
              "3  0.03237   0.0   2.18   0.0  0.458  ...  222.0     18.7  394.63   2.94  33.4\n",
              "4  0.06905   0.0   2.18   0.0  0.458  ...  222.0     18.7  396.90   5.33  36.2\n",
              "\n",
              "[5 rows x 14 columns]"
            ]
          },
          "metadata": {
            "tags": []
          },
          "execution_count": 3
        }
      ]
    },
    {
      "cell_type": "code",
      "metadata": {
        "id": "tOcBlHB4JRWH",
        "colab_type": "code",
        "colab": {
          "base_uri": "https://localhost:8080/",
          "height": 296
        },
        "outputId": "648d778b-aeb3-4e02-a877-b3191ae4eb14"
      },
      "source": [
        "#Visualize all the input columns with the output column.Write your observations based on the plots generated, how the particular input is showing effect on the output\n",
        "\n",
        "sns.regplot(df.CRIM,df.MEDV)#CRIM"
      ],
      "execution_count": 4,
      "outputs": [
        {
          "output_type": "execute_result",
          "data": {
            "text/plain": [
              "<matplotlib.axes._subplots.AxesSubplot at 0x7fc4a593b7b8>"
            ]
          },
          "metadata": {
            "tags": []
          },
          "execution_count": 4
        },
        {
          "output_type": "display_data",
          "data": {
            "image/png": "[encoded data removed]",
            "text/plain": [
              "<Figure size 432x288 with 1 Axes>"
            ]
          },
          "metadata": {
            "tags": [],
            "needs_background": "light"
          }
        }
      ]
    },
    {
      "cell_type": "markdown",
      "metadata": {
        "id": "R6Ds2uDOJVv4",
        "colab_type": "text"
      },
      "source": [
        "**According to the above plot, the input CRIM has weakly negative correlation with the output MEDV**"
      ]
    },
    {
      "cell_type": "markdown",
      "metadata": {
        "id": "rQ7k61CsJbUJ",
        "colab_type": "text"
      },
      "source": [
        "**So, it has very minimal effect on the output.**"
      ]
    },
    {
      "cell_type": "code",
      "metadata": {
        "id": "XveLwto6JUWv",
        "colab_type": "code",
        "colab": {
          "base_uri": "https://localhost:8080/",
          "height": 296
        },
        "outputId": "42852d6b-3c02-41df-bf9e-c7c86e6ab533"
      },
      "source": [
        "sns.regplot(df.ZN,df.MEDV) #ZN"
      ],
      "execution_count": 5,
      "outputs": [
        {
          "output_type": "execute_result",
          "data": {
            "text/plain": [
              "<matplotlib.axes._subplots.AxesSubplot at 0x7fc4a5837128>"
            ]
          },
          "metadata": {
            "tags": []
          },
          "execution_count": 5
        },
        {
          "output_type": "display_data",
          "data": {
            "image/png": "[encoded data removed]",
            "text/plain": [
              "<Figure size 432x288 with 1 Axes>"
            ]
          },
          "metadata": {
            "tags": [],
            "needs_background": "light"
          }
        }
      ]
    },
    {
      "cell_type": "markdown",
      "metadata": {
        "id": "llOjcvwoJi9u",
        "colab_type": "text"
      },
      "source": [
        "**According to the above plot, the input ZN has no correlation with the output MEDV**"
      ]
    },
    {
      "cell_type": "markdown",
      "metadata": {
        "id": "vRBZWj6CJnbt",
        "colab_type": "text"
      },
      "source": [
        "**So, it has no effect on the output**"
      ]
    },
    {
      "cell_type": "code",
      "metadata": {
        "id": "7Vr3hkt1JhrW",
        "colab_type": "code",
        "colab": {
          "base_uri": "https://localhost:8080/",
          "height": 296
        },
        "outputId": "a825e445-f448-496c-f870-6931c1948683"
      },
      "source": [
        "sns.regplot(df.INDUS,df.MEDV) #INDUS"
      ],
      "execution_count": 6,
      "outputs": [
        {
          "output_type": "execute_result",
          "data": {
            "text/plain": [
              "<matplotlib.axes._subplots.AxesSubplot at 0x7fc4a5364438>"
            ]
          },
          "metadata": {
            "tags": []
          },
          "execution_count": 6
        },
        {
          "output_type": "display_data",
          "data": {
            "image/png": "[encoded data removed]",
            "text/plain": [
              "<Figure size 432x288 with 1 Axes>"
            ]
          },
          "metadata": {
            "tags": [],
            "needs_background": "light"
          }
        }
      ]
    },
    {
      "cell_type": "markdown",
      "metadata": {
        "id": "3my-o2ANJyxY",
        "colab_type": "text"
      },
      "source": [
        "**According to the above plot, the input INDUS has no correlation with the output MEDV.**\n",
        "\n",
        "\n",
        "**So, it has no effect on the output.**"
      ]
    },
    {
      "cell_type": "code",
      "metadata": {
        "id": "6_J-ZB6KJxQD",
        "colab_type": "code",
        "colab": {
          "base_uri": "https://localhost:8080/",
          "height": 296
        },
        "outputId": "4ca59a0b-73e3-4763-81e5-740072345df7"
      },
      "source": [
        "sns.regplot(df.CHAS,df.MEDV) #CHAS"
      ],
      "execution_count": 7,
      "outputs": [
        {
          "output_type": "execute_result",
          "data": {
            "text/plain": [
              "<matplotlib.axes._subplots.AxesSubplot at 0x7fc4a5342860>"
            ]
          },
          "metadata": {
            "tags": []
          },
          "execution_count": 7
        },
        {
          "output_type": "display_data",
          "data": {
            "image/png": "[encoded data removed]",
            "text/plain": [
              "<Figure size 432x288 with 1 Axes>"
            ]
          },
          "metadata": {
            "tags": [],
            "needs_background": "light"
          }
        }
      ]
    },
    {
      "cell_type": "markdown",
      "metadata": {
        "id": "Gw3ePDTwKEzU",
        "colab_type": "text"
      },
      "source": [
        "**According to the above plot, the input CHAS has no correlation with the output MEDV**\n",
        "\n",
        "**So, it has no effect on the output**"
      ]
    },
    {
      "cell_type": "code",
      "metadata": {
        "id": "uv6E97YBKBIP",
        "colab_type": "code",
        "colab": {
          "base_uri": "https://localhost:8080/",
          "height": 296
        },
        "outputId": "22e7ba84-28be-44b7-defc-0e5c9078f3be"
      },
      "source": [
        "sns.regplot(df.NOX,df.MEDV) #NOX"
      ],
      "execution_count": 8,
      "outputs": [
        {
          "output_type": "execute_result",
          "data": {
            "text/plain": [
              "<matplotlib.axes._subplots.AxesSubplot at 0x7fc4a531c518>"
            ]
          },
          "metadata": {
            "tags": []
          },
          "execution_count": 8
        },
        {
          "output_type": "display_data",
          "data": {
            "image/png": "[encoded data removed]",
            "text/plain": [
              "<Figure size 432x288 with 1 Axes>"
            ]
          },
          "metadata": {
            "tags": [],
            "needs_background": "light"
          }
        }
      ]
    },
    {
      "cell_type": "markdown",
      "metadata": {
        "id": "GP7THTV0Kq-n",
        "colab_type": "text"
      },
      "source": [
        "**According to the above plot, the input NOX has no correlation with the output MEDV**\n",
        "\n",
        "**So, it has no effect on the output.**"
      ]
    },
    {
      "cell_type": "code",
      "metadata": {
        "id": "UDiaBH95KdnO",
        "colab_type": "code",
        "colab": {
          "base_uri": "https://localhost:8080/",
          "height": 296
        },
        "outputId": "6031db6d-d078-4bfb-92c9-d68c074c33e0"
      },
      "source": [
        "sns.regplot(df.RM,df.MEDV) #RM"
      ],
      "execution_count": 9,
      "outputs": [
        {
          "output_type": "execute_result",
          "data": {
            "text/plain": [
              "<matplotlib.axes._subplots.AxesSubplot at 0x7fc4a526e0f0>"
            ]
          },
          "metadata": {
            "tags": []
          },
          "execution_count": 9
        },
        {
          "output_type": "display_data",
          "data": {
            "image/png": "[encoded data removed]",
            "text/plain": [
              "<Figure size 432x288 with 1 Axes>"
            ]
          },
          "metadata": {
            "tags": [],
            "needs_background": "light"
          }
        }
      ]
    },
    {
      "cell_type": "markdown",
      "metadata": {
        "id": "69yjkxlyK2Ve",
        "colab_type": "text"
      },
      "source": [
        "**According to the above plot, the input RM has moderately negative correlation with the output MEDV.**\n",
        "\n",
        "**So, it has moderate effect on the output**"
      ]
    },
    {
      "cell_type": "code",
      "metadata": {
        "id": "fvk8x2t-K1EI",
        "colab_type": "code",
        "colab": {
          "base_uri": "https://localhost:8080/",
          "height": 296
        },
        "outputId": "f5a722be-aa33-4549-b423-3466d3d1ebd9"
      },
      "source": [
        "sns.regplot(df.AGE,df.MEDV) #AGE"
      ],
      "execution_count": 10,
      "outputs": [
        {
          "output_type": "execute_result",
          "data": {
            "text/plain": [
              "<matplotlib.axes._subplots.AxesSubplot at 0x7fc4a51ed358>"
            ]
          },
          "metadata": {
            "tags": []
          },
          "execution_count": 10
        },
        {
          "output_type": "display_data",
          "data": {
            "image/png": "[encoded data removed]",
            "text/plain": [
              "<Figure size 432x288 with 1 Axes>"
            ]
          },
          "metadata": {
            "tags": [],
            "needs_background": "light"
          }
        }
      ]
    },
    {
      "cell_type": "markdown",
      "metadata": {
        "id": "511jYPyELOX6",
        "colab_type": "text"
      },
      "source": [
        "**According to the above plot, the input AGE has weakly negative correlation with the output MEDV**\n",
        "\n",
        "**So, it has little effect on the output.**"
      ]
    },
    {
      "cell_type": "code",
      "metadata": {
        "id": "H742qEFpLBAz",
        "colab_type": "code",
        "colab": {
          "base_uri": "https://localhost:8080/",
          "height": 296
        },
        "outputId": "e702ebf3-3335-48d3-b31d-e2c43c274763"
      },
      "source": [
        "sns.regplot(df.DIS,df.MEDV) #DIS"
      ],
      "execution_count": 11,
      "outputs": [
        {
          "output_type": "execute_result",
          "data": {
            "text/plain": [
              "<matplotlib.axes._subplots.AxesSubplot at 0x7fc4a51d15c0>"
            ]
          },
          "metadata": {
            "tags": []
          },
          "execution_count": 11
        },
        {
          "output_type": "display_data",
          "data": {
            "image/png": "[encoded data removed]",
            "text/plain": [
              "<Figure size 432x288 with 1 Axes>"
            ]
          },
          "metadata": {
            "tags": [],
            "needs_background": "light"
          }
        }
      ]
    },
    {
      "cell_type": "markdown",
      "metadata": {
        "id": "JYj7vzSULZkx",
        "colab_type": "text"
      },
      "source": [
        "**According to the above plot, the input DIS has no correlation with the output MEDV**\n",
        "\n",
        "**So, it has no effect on the output**"
      ]
    },
    {
      "cell_type": "code",
      "metadata": {
        "id": "Mfff2beyLXlJ",
        "colab_type": "code",
        "colab": {
          "base_uri": "https://localhost:8080/",
          "height": 296
        },
        "outputId": "461820b5-eda4-4cbe-f788-80d0efd5a9cb"
      },
      "source": [
        "sns.regplot(df.RAD,df.MEDV) #RAD"
      ],
      "execution_count": 12,
      "outputs": [
        {
          "output_type": "execute_result",
          "data": {
            "text/plain": [
              "<matplotlib.axes._subplots.AxesSubplot at 0x7fc4a5135400>"
            ]
          },
          "metadata": {
            "tags": []
          },
          "execution_count": 12
        },
        {
          "output_type": "display_data",
          "data": {
            "image/png": "[encoded data removed]",
            "text/plain": [
              "<Figure size 432x288 with 1 Axes>"
            ]
          },
          "metadata": {
            "tags": [],
            "needs_background": "light"
          }
        }
      ]
    },
    {
      "cell_type": "markdown",
      "metadata": {
        "id": "rQi_9LMPLoR6",
        "colab_type": "text"
      },
      "source": [
        "**According to the above plot, the input RAD has no correlation with the output MEDV**\n",
        "\n",
        "**So, it has no effect on the output.**"
      ]
    },
    {
      "cell_type": "code",
      "metadata": {
        "id": "BsNxg6xpLmzs",
        "colab_type": "code",
        "colab": {
          "base_uri": "https://localhost:8080/",
          "height": 296
        },
        "outputId": "d1463847-077e-4a6f-fcc8-12cf1db12a5a"
      },
      "source": [
        "sns.regplot(df.TAX,df.MEDV) #TAX"
      ],
      "execution_count": 13,
      "outputs": [
        {
          "output_type": "execute_result",
          "data": {
            "text/plain": [
              "<matplotlib.axes._subplots.AxesSubplot at 0x7fc4a51c9dd8>"
            ]
          },
          "metadata": {
            "tags": []
          },
          "execution_count": 13
        },
        {
          "output_type": "display_data",
          "data": {
            "image/png": "[encoded data removed]",
            "text/plain": [
              "<Figure size 432x288 with 1 Axes>"
            ]
          },
          "metadata": {
            "tags": [],
            "needs_background": "light"
          }
        }
      ]
    },
    {
      "cell_type": "markdown",
      "metadata": {
        "id": "nGfv4kdmLyZp",
        "colab_type": "text"
      },
      "source": [
        "**According to the above plot, the input TAX has no correlation with the output MEDV.**\n",
        "\n",
        "**So, it has no effect on the output.**"
      ]
    },
    {
      "cell_type": "code",
      "metadata": {
        "id": "Fjo70CDqLwiY",
        "colab_type": "code",
        "colab": {
          "base_uri": "https://localhost:8080/",
          "height": 296
        },
        "outputId": "a8db363e-4c3a-47d2-fcbc-68588e618fe7"
      },
      "source": [
        "sns.regplot(df.PTRATIO,df.MEDV) #PTRATIO"
      ],
      "execution_count": 14,
      "outputs": [
        {
          "output_type": "execute_result",
          "data": {
            "text/plain": [
              "<matplotlib.axes._subplots.AxesSubplot at 0x7fc4a5089d68>"
            ]
          },
          "metadata": {
            "tags": []
          },
          "execution_count": 14
        },
        {
          "output_type": "display_data",
          "data": {
            "image/png": "[encoded data removed]",
            "text/plain": [
              "<Figure size 432x288 with 1 Axes>"
            ]
          },
          "metadata": {
            "tags": [],
            "needs_background": "light"
          }
        }
      ]
    },
    {
      "cell_type": "markdown",
      "metadata": {
        "id": "qo7KIJ4yL-P8",
        "colab_type": "text"
      },
      "source": [
        "**According to the above plot, the input PTRATIO has no correlation with the output MEDV**\n",
        "\n",
        "**So, it has no effect on the output.**"
      ]
    },
    {
      "cell_type": "code",
      "metadata": {
        "id": "QTUWluNCL70q",
        "colab_type": "code",
        "colab": {
          "base_uri": "https://localhost:8080/",
          "height": 296
        },
        "outputId": "a0650158-552e-4f4b-a330-be3692fbbddc"
      },
      "source": [
        "sns.regplot(df.B,df.MEDV) #B"
      ],
      "execution_count": 15,
      "outputs": [
        {
          "output_type": "execute_result",
          "data": {
            "text/plain": [
              "<matplotlib.axes._subplots.AxesSubplot at 0x7fc4a5059ba8>"
            ]
          },
          "metadata": {
            "tags": []
          },
          "execution_count": 15
        },
        {
          "output_type": "display_data",
          "data": {
            "image/png": "[encoded data removed]",
            "text/plain": [
              "<Figure size 432x288 with 1 Axes>"
            ]
          },
          "metadata": {
            "tags": [],
            "needs_background": "light"
          }
        }
      ]
    },
    {
      "cell_type": "markdown",
      "metadata": {
        "id": "GeFuT68NMIMi",
        "colab_type": "text"
      },
      "source": [
        "**According to the above plot, the input B has no correlation with the output MEDV**\n",
        "\n",
        "**So, it has no effect on the output.**"
      ]
    },
    {
      "cell_type": "code",
      "metadata": {
        "id": "prWo9-7dMGlu",
        "colab_type": "code",
        "colab": {
          "base_uri": "https://localhost:8080/",
          "height": 296
        },
        "outputId": "1ac322a6-438a-4233-f3f5-6da5f1a807f2"
      },
      "source": [
        "sns.regplot(df.LSTAT,df.MEDV) #LSTAT"
      ],
      "execution_count": 16,
      "outputs": [
        {
          "output_type": "execute_result",
          "data": {
            "text/plain": [
              "<matplotlib.axes._subplots.AxesSubplot at 0x7fc4a4fba320>"
            ]
          },
          "metadata": {
            "tags": []
          },
          "execution_count": 16
        },
        {
          "output_type": "display_data",
          "data": {
            "image/png": "[encoded data removed]",
            "text/plain": [
              "<Figure size 432x288 with 1 Axes>"
            ]
          },
          "metadata": {
            "tags": [],
            "needs_background": "light"
          }
        }
      ]
    },
    {
      "cell_type": "markdown",
      "metadata": {
        "id": "j2V9NehwMYE4",
        "colab_type": "text"
      },
      "source": [
        "**According to the above plot, the input LSTAT has moderately negative correlation with the output MEDV.**\n",
        "\n",
        "**So, it has moderate effect on the output**"
      ]
    },
    {
      "cell_type": "code",
      "metadata": {
        "id": "u9LBHzTHMWk_",
        "colab_type": "code",
        "colab": {
          "base_uri": "https://localhost:8080/",
          "height": 462
        },
        "outputId": "179401cc-3cfc-420a-8b46-75ca62709844"
      },
      "source": [
        "#Remove any of the one variable from the dataset if correlation is greater than 0.9. \n",
        "df.corr()[df.corr()>0.9]"
      ],
      "execution_count": 17,
      "outputs": [
        {
          "output_type": "execute_result",
          "data": {
            "text/html": [
              "<div>\n",
              "<style scoped>\n",
              "    .dataframe tbody tr th:only-of-type {\n",
              "        vertical-align: middle;\n",
              "    }\n",
              "\n",
              "    .dataframe tbody tr th {\n",
              "        vertical-align: top;\n",
              "    }\n",
              "\n",
              "    .dataframe thead th {\n",
              "        text-align: right;\n",
              "    }\n",
              "</style>\n",
              "<table border=\"1\" class=\"dataframe\">\n",
              "  <thead>\n",
              "    <tr style=\"text-align: right;\">\n",
              "      <th></th>\n",
              "      <th>CRIM</th>\n",
              "      <th>ZN</th>\n",
              "      <th>INDUS</th>\n",
              "      <th>CHAS</th>\n",
              "      <th>NOX</th>\n",
              "      <th>RM</th>\n",
              "      <th>AGE</th>\n",
              "      <th>DIS</th>\n",
              "      <th>RAD</th>\n",
              "      <th>TAX</th>\n",
              "      <th>PTRATIO</th>\n",
              "      <th>B</th>\n",
              "      <th>LSTAT</th>\n",
              "      <th>MEDV</th>\n",
              "    </tr>\n",
              "  </thead>\n",
              "  <tbody>\n",
              "    <tr>\n",
              "      <th>CRIM</th>\n",
              "      <td>1.0</td>\n",
              "      <td>NaN</td>\n",
              "      <td>NaN</td>\n",
              "      <td>NaN</td>\n",
              "      <td>NaN</td>\n",
              "      <td>NaN</td>\n",
              "      <td>NaN</td>\n",
              "      <td>NaN</td>\n",
              "      <td>NaN</td>\n",
              "      <td>NaN</td>\n",
              "      <td>NaN</td>\n",
              "      <td>NaN</td>\n",
              "      <td>NaN</td>\n",
              "      <td>NaN</td>\n",
              "    </tr>\n",
              "    <tr>\n",
              "      <th>ZN</th>\n",
              "      <td>NaN</td>\n",
              "      <td>1.0</td>\n",
              "      <td>NaN</td>\n",
              "      <td>NaN</td>\n",
              "      <td>NaN</td>\n",
              "      <td>NaN</td>\n",
              "      <td>NaN</td>\n",
              "      <td>NaN</td>\n",
              "      <td>NaN</td>\n",
              "      <td>NaN</td>\n",
              "      <td>NaN</td>\n",
              "      <td>NaN</td>\n",
              "      <td>NaN</td>\n",
              "      <td>NaN</td>\n",
              "    </tr>\n",
              "    <tr>\n",
              "      <th>INDUS</th>\n",
              "      <td>NaN</td>\n",
              "      <td>NaN</td>\n",
              "      <td>1.0</td>\n",
              "      <td>NaN</td>\n",
              "      <td>NaN</td>\n",
              "      <td>NaN</td>\n",
              "      <td>NaN</td>\n",
              "      <td>NaN</td>\n",
              "      <td>NaN</td>\n",
              "      <td>NaN</td>\n",
              "      <td>NaN</td>\n",
              "      <td>NaN</td>\n",
              "      <td>NaN</td>\n",
              "      <td>NaN</td>\n",
              "    </tr>\n",
              "    <tr>\n",
              "      <th>CHAS</th>\n",
              "      <td>NaN</td>\n",
              "      <td>NaN</td>\n",
              "      <td>NaN</td>\n",
              "      <td>1.0</td>\n",
              "      <td>NaN</td>\n",
              "      <td>NaN</td>\n",
              "      <td>NaN</td>\n",
              "      <td>NaN</td>\n",
              "      <td>NaN</td>\n",
              "      <td>NaN</td>\n",
              "      <td>NaN</td>\n",
              "      <td>NaN</td>\n",
              "      <td>NaN</td>\n",
              "      <td>NaN</td>\n",
              "    </tr>\n",
              "    <tr>\n",
              "      <th>NOX</th>\n",
              "      <td>NaN</td>\n",
              "      <td>NaN</td>\n",
              "      <td>NaN</td>\n",
              "      <td>NaN</td>\n",
              "      <td>1.0</td>\n",
              "      <td>NaN</td>\n",
              "      <td>NaN</td>\n",
              "      <td>NaN</td>\n",
              "      <td>NaN</td>\n",
              "      <td>NaN</td>\n",
              "      <td>NaN</td>\n",
              "      <td>NaN</td>\n",
              "      <td>NaN</td>\n",
              "      <td>NaN</td>\n",
              "    </tr>\n",
              "    <tr>\n",
              "      <th>RM</th>\n",
              "      <td>NaN</td>\n",
              "      <td>NaN</td>\n",
              "      <td>NaN</td>\n",
              "      <td>NaN</td>\n",
              "      <td>NaN</td>\n",
              "      <td>1.0</td>\n",
              "      <td>NaN</td>\n",
              "      <td>NaN</td>\n",
              "      <td>NaN</td>\n",
              "      <td>NaN</td>\n",
              "      <td>NaN</td>\n",
              "      <td>NaN</td>\n",
              "      <td>NaN</td>\n",
              "      <td>NaN</td>\n",
              "    </tr>\n",
              "    <tr>\n",
              "      <th>AGE</th>\n",
              "      <td>NaN</td>\n",
              "      <td>NaN</td>\n",
              "      <td>NaN</td>\n",
              "      <td>NaN</td>\n",
              "      <td>NaN</td>\n",
              "      <td>NaN</td>\n",
              "      <td>1.0</td>\n",
              "      <td>NaN</td>\n",
              "      <td>NaN</td>\n",
              "      <td>NaN</td>\n",
              "      <td>NaN</td>\n",
              "      <td>NaN</td>\n",
              "      <td>NaN</td>\n",
              "      <td>NaN</td>\n",
              "    </tr>\n",
              "    <tr>\n",
              "      <th>DIS</th>\n",
              "      <td>NaN</td>\n",
              "      <td>NaN</td>\n",
              "      <td>NaN</td>\n",
              "      <td>NaN</td>\n",
              "      <td>NaN</td>\n",
              "      <td>NaN</td>\n",
              "      <td>NaN</td>\n",
              "      <td>1.0</td>\n",
              "      <td>NaN</td>\n",
              "      <td>NaN</td>\n",
              "      <td>NaN</td>\n",
              "      <td>NaN</td>\n",
              "      <td>NaN</td>\n",
              "      <td>NaN</td>\n",
              "    </tr>\n",
              "    <tr>\n",
              "      <th>RAD</th>\n",
              "      <td>NaN</td>\n",
              "      <td>NaN</td>\n",
              "      <td>NaN</td>\n",
              "      <td>NaN</td>\n",
              "      <td>NaN</td>\n",
              "      <td>NaN</td>\n",
              "      <td>NaN</td>\n",
              "      <td>NaN</td>\n",
              "      <td>1.000000</td>\n",
              "      <td>0.910228</td>\n",
              "      <td>NaN</td>\n",
              "      <td>NaN</td>\n",
              "      <td>NaN</td>\n",
              "      <td>NaN</td>\n",
              "    </tr>\n",
              "    <tr>\n",
              "      <th>TAX</th>\n",
              "      <td>NaN</td>\n",
              "      <td>NaN</td>\n",
              "      <td>NaN</td>\n",
              "      <td>NaN</td>\n",
              "      <td>NaN</td>\n",
              "      <td>NaN</td>\n",
              "      <td>NaN</td>\n",
              "      <td>NaN</td>\n",
              "      <td>0.910228</td>\n",
              "      <td>1.000000</td>\n",
              "      <td>NaN</td>\n",
              "      <td>NaN</td>\n",
              "      <td>NaN</td>\n",
              "      <td>NaN</td>\n",
              "    </tr>\n",
              "    <tr>\n",
              "      <th>PTRATIO</th>\n",
              "      <td>NaN</td>\n",
              "      <td>NaN</td>\n",
              "      <td>NaN</td>\n",
              "      <td>NaN</td>\n",
              "      <td>NaN</td>\n",
              "      <td>NaN</td>\n",
              "      <td>NaN</td>\n",
              "      <td>NaN</td>\n",
              "      <td>NaN</td>\n",
              "      <td>NaN</td>\n",
              "      <td>1.0</td>\n",
              "      <td>NaN</td>\n",
              "      <td>NaN</td>\n",
              "      <td>NaN</td>\n",
              "    </tr>\n",
              "    <tr>\n",
              "      <th>B</th>\n",
              "      <td>NaN</td>\n",
              "      <td>NaN</td>\n",
              "      <td>NaN</td>\n",
              "      <td>NaN</td>\n",
              "      <td>NaN</td>\n",
              "      <td>NaN</td>\n",
              "      <td>NaN</td>\n",
              "      <td>NaN</td>\n",
              "      <td>NaN</td>\n",
              "      <td>NaN</td>\n",
              "      <td>NaN</td>\n",
              "      <td>1.0</td>\n",
              "      <td>NaN</td>\n",
              "      <td>NaN</td>\n",
              "    </tr>\n",
              "    <tr>\n",
              "      <th>LSTAT</th>\n",
              "      <td>NaN</td>\n",
              "      <td>NaN</td>\n",
              "      <td>NaN</td>\n",
              "      <td>NaN</td>\n",
              "      <td>NaN</td>\n",
              "      <td>NaN</td>\n",
              "      <td>NaN</td>\n",
              "      <td>NaN</td>\n",
              "      <td>NaN</td>\n",
              "      <td>NaN</td>\n",
              "      <td>NaN</td>\n",
              "      <td>NaN</td>\n",
              "      <td>1.0</td>\n",
              "      <td>NaN</td>\n",
              "    </tr>\n",
              "    <tr>\n",
              "      <th>MEDV</th>\n",
              "      <td>NaN</td>\n",
              "      <td>NaN</td>\n",
              "      <td>NaN</td>\n",
              "      <td>NaN</td>\n",
              "      <td>NaN</td>\n",
              "      <td>NaN</td>\n",
              "      <td>NaN</td>\n",
              "      <td>NaN</td>\n",
              "      <td>NaN</td>\n",
              "      <td>NaN</td>\n",
              "      <td>NaN</td>\n",
              "      <td>NaN</td>\n",
              "      <td>NaN</td>\n",
              "      <td>1.0</td>\n",
              "    </tr>\n",
              "  </tbody>\n",
              "</table>\n",
              "</div>"
            ],
            "text/plain": [
              "         CRIM   ZN  INDUS  CHAS  NOX  ...       TAX  PTRATIO    B  LSTAT  MEDV\n",
              "CRIM      1.0  NaN    NaN   NaN  NaN  ...       NaN      NaN  NaN    NaN   NaN\n",
              "ZN        NaN  1.0    NaN   NaN  NaN  ...       NaN      NaN  NaN    NaN   NaN\n",
              "INDUS     NaN  NaN    1.0   NaN  NaN  ...       NaN      NaN  NaN    NaN   NaN\n",
              "CHAS      NaN  NaN    NaN   1.0  NaN  ...       NaN      NaN  NaN    NaN   NaN\n",
              "NOX       NaN  NaN    NaN   NaN  1.0  ...       NaN      NaN  NaN    NaN   NaN\n",
              "RM        NaN  NaN    NaN   NaN  NaN  ...       NaN      NaN  NaN    NaN   NaN\n",
              "AGE       NaN  NaN    NaN   NaN  NaN  ...       NaN      NaN  NaN    NaN   NaN\n",
              "DIS       NaN  NaN    NaN   NaN  NaN  ...       NaN      NaN  NaN    NaN   NaN\n",
              "RAD       NaN  NaN    NaN   NaN  NaN  ...  0.910228      NaN  NaN    NaN   NaN\n",
              "TAX       NaN  NaN    NaN   NaN  NaN  ...  1.000000      NaN  NaN    NaN   NaN\n",
              "PTRATIO   NaN  NaN    NaN   NaN  NaN  ...       NaN      1.0  NaN    NaN   NaN\n",
              "B         NaN  NaN    NaN   NaN  NaN  ...       NaN      NaN  1.0    NaN   NaN\n",
              "LSTAT     NaN  NaN    NaN   NaN  NaN  ...       NaN      NaN  NaN    1.0   NaN\n",
              "MEDV      NaN  NaN    NaN   NaN  NaN  ...       NaN      NaN  NaN    NaN   1.0\n",
              "\n",
              "[14 rows x 14 columns]"
            ]
          },
          "metadata": {
            "tags": []
          },
          "execution_count": 17
        }
      ]
    },
    {
      "cell_type": "code",
      "metadata": {
        "id": "8dBClt9oMhxB",
        "colab_type": "code",
        "colab": {
          "base_uri": "https://localhost:8080/",
          "height": 402
        },
        "outputId": "8df49c92-12e9-411c-c0c0-48ed7c3e7bcb"
      },
      "source": [
        "df.drop('RAD',axis=1,inplace=True) #dropping RAD column\n",
        "df"
      ],
      "execution_count": 18,
      "outputs": [
        {
          "output_type": "execute_result",
          "data": {
            "text/html": [
              "<div>\n",
              "<style scoped>\n",
              "    .dataframe tbody tr th:only-of-type {\n",
              "        vertical-align: middle;\n",
              "    }\n",
              "\n",
              "    .dataframe tbody tr th {\n",
              "        vertical-align: top;\n",
              "    }\n",
              "\n",
              "    .dataframe thead th {\n",
              "        text-align: right;\n",
              "    }\n",
              "</style>\n",
              "<table border=\"1\" class=\"dataframe\">\n",
              "  <thead>\n",
              "    <tr style=\"text-align: right;\">\n",
              "      <th></th>\n",
              "      <th>CRIM</th>\n",
              "      <th>ZN</th>\n",
              "      <th>INDUS</th>\n",
              "      <th>CHAS</th>\n",
              "      <th>NOX</th>\n",
              "      <th>RM</th>\n",
              "      <th>AGE</th>\n",
              "      <th>DIS</th>\n",
              "      <th>TAX</th>\n",
              "      <th>PTRATIO</th>\n",
              "      <th>B</th>\n",
              "      <th>LSTAT</th>\n",
              "      <th>MEDV</th>\n",
              "    </tr>\n",
              "  </thead>\n",
              "  <tbody>\n",
              "    <tr>\n",
              "      <th>0</th>\n",
              "      <td>0.00632</td>\n",
              "      <td>18.0</td>\n",
              "      <td>2.31</td>\n",
              "      <td>0.0</td>\n",
              "      <td>0.538</td>\n",
              "      <td>6.575</td>\n",
              "      <td>65.2</td>\n",
              "      <td>4.0900</td>\n",
              "      <td>296.0</td>\n",
              "      <td>15.3</td>\n",
              "      <td>396.90</td>\n",
              "      <td>4.98</td>\n",
              "      <td>24.0</td>\n",
              "    </tr>\n",
              "    <tr>\n",
              "      <th>1</th>\n",
              "      <td>0.02731</td>\n",
              "      <td>0.0</td>\n",
              "      <td>7.07</td>\n",
              "      <td>0.0</td>\n",
              "      <td>0.469</td>\n",
              "      <td>6.421</td>\n",
              "      <td>78.9</td>\n",
              "      <td>4.9671</td>\n",
              "      <td>242.0</td>\n",
              "      <td>17.8</td>\n",
              "      <td>396.90</td>\n",
              "      <td>9.14</td>\n",
              "      <td>21.6</td>\n",
              "    </tr>\n",
              "    <tr>\n",
              "      <th>2</th>\n",
              "      <td>0.02729</td>\n",
              "      <td>0.0</td>\n",
              "      <td>7.07</td>\n",
              "      <td>0.0</td>\n",
              "      <td>0.469</td>\n",
              "      <td>7.185</td>\n",
              "      <td>61.1</td>\n",
              "      <td>4.9671</td>\n",
              "      <td>242.0</td>\n",
              "      <td>17.8</td>\n",
              "      <td>392.83</td>\n",
              "      <td>4.03</td>\n",
              "      <td>34.7</td>\n",
              "    </tr>\n",
              "    <tr>\n",
              "      <th>3</th>\n",
              "      <td>0.03237</td>\n",
              "      <td>0.0</td>\n",
              "      <td>2.18</td>\n",
              "      <td>0.0</td>\n",
              "      <td>0.458</td>\n",
              "      <td>6.998</td>\n",
              "      <td>45.8</td>\n",
              "      <td>6.0622</td>\n",
              "      <td>222.0</td>\n",
              "      <td>18.7</td>\n",
              "      <td>394.63</td>\n",
              "      <td>2.94</td>\n",
              "      <td>33.4</td>\n",
              "    </tr>\n",
              "    <tr>\n",
              "      <th>4</th>\n",
              "      <td>0.06905</td>\n",
              "      <td>0.0</td>\n",
              "      <td>2.18</td>\n",
              "      <td>0.0</td>\n",
              "      <td>0.458</td>\n",
              "      <td>7.147</td>\n",
              "      <td>54.2</td>\n",
              "      <td>6.0622</td>\n",
              "      <td>222.0</td>\n",
              "      <td>18.7</td>\n",
              "      <td>396.90</td>\n",
              "      <td>5.33</td>\n",
              "      <td>36.2</td>\n",
              "    </tr>\n",
              "    <tr>\n",
              "      <th>...</th>\n",
              "      <td>...</td>\n",
              "      <td>...</td>\n",
              "      <td>...</td>\n",
              "      <td>...</td>\n",
              "      <td>...</td>\n",
              "      <td>...</td>\n",
              "      <td>...</td>\n",
              "      <td>...</td>\n",
              "      <td>...</td>\n",
              "      <td>...</td>\n",
              "      <td>...</td>\n",
              "      <td>...</td>\n",
              "      <td>...</td>\n",
              "    </tr>\n",
              "    <tr>\n",
              "      <th>501</th>\n",
              "      <td>0.06263</td>\n",
              "      <td>0.0</td>\n",
              "      <td>11.93</td>\n",
              "      <td>0.0</td>\n",
              "      <td>0.573</td>\n",
              "      <td>6.593</td>\n",
              "      <td>69.1</td>\n",
              "      <td>2.4786</td>\n",
              "      <td>273.0</td>\n",
              "      <td>21.0</td>\n",
              "      <td>391.99</td>\n",
              "      <td>9.67</td>\n",
              "      <td>22.4</td>\n",
              "    </tr>\n",
              "    <tr>\n",
              "      <th>502</th>\n",
              "      <td>0.04527</td>\n",
              "      <td>0.0</td>\n",
              "      <td>11.93</td>\n",
              "      <td>0.0</td>\n",
              "      <td>0.573</td>\n",
              "      <td>6.120</td>\n",
              "      <td>76.7</td>\n",
              "      <td>2.2875</td>\n",
              "      <td>273.0</td>\n",
              "      <td>21.0</td>\n",
              "      <td>396.90</td>\n",
              "      <td>9.08</td>\n",
              "      <td>20.6</td>\n",
              "    </tr>\n",
              "    <tr>\n",
              "      <th>503</th>\n",
              "      <td>0.06076</td>\n",
              "      <td>0.0</td>\n",
              "      <td>11.93</td>\n",
              "      <td>0.0</td>\n",
              "      <td>0.573</td>\n",
              "      <td>6.976</td>\n",
              "      <td>91.0</td>\n",
              "      <td>2.1675</td>\n",
              "      <td>273.0</td>\n",
              "      <td>21.0</td>\n",
              "      <td>396.90</td>\n",
              "      <td>5.64</td>\n",
              "      <td>23.9</td>\n",
              "    </tr>\n",
              "    <tr>\n",
              "      <th>504</th>\n",
              "      <td>0.10959</td>\n",
              "      <td>0.0</td>\n",
              "      <td>11.93</td>\n",
              "      <td>0.0</td>\n",
              "      <td>0.573</td>\n",
              "      <td>6.794</td>\n",
              "      <td>89.3</td>\n",
              "      <td>2.3889</td>\n",
              "      <td>273.0</td>\n",
              "      <td>21.0</td>\n",
              "      <td>393.45</td>\n",
              "      <td>6.48</td>\n",
              "      <td>22.0</td>\n",
              "    </tr>\n",
              "    <tr>\n",
              "      <th>505</th>\n",
              "      <td>0.04741</td>\n",
              "      <td>0.0</td>\n",
              "      <td>11.93</td>\n",
              "      <td>0.0</td>\n",
              "      <td>0.573</td>\n",
              "      <td>6.030</td>\n",
              "      <td>80.8</td>\n",
              "      <td>2.5050</td>\n",
              "      <td>273.0</td>\n",
              "      <td>21.0</td>\n",
              "      <td>396.90</td>\n",
              "      <td>7.88</td>\n",
              "      <td>11.9</td>\n",
              "    </tr>\n",
              "  </tbody>\n",
              "</table>\n",
              "<p>506 rows × 13 columns</p>\n",
              "</div>"
            ],
            "text/plain": [
              "        CRIM    ZN  INDUS  CHAS    NOX  ...    TAX  PTRATIO       B  LSTAT  MEDV\n",
              "0    0.00632  18.0   2.31   0.0  0.538  ...  296.0     15.3  396.90   4.98  24.0\n",
              "1    0.02731   0.0   7.07   0.0  0.469  ...  242.0     17.8  396.90   9.14  21.6\n",
              "2    0.02729   0.0   7.07   0.0  0.469  ...  242.0     17.8  392.83   4.03  34.7\n",
              "3    0.03237   0.0   2.18   0.0  0.458  ...  222.0     18.7  394.63   2.94  33.4\n",
              "4    0.06905   0.0   2.18   0.0  0.458  ...  222.0     18.7  396.90   5.33  36.2\n",
              "..       ...   ...    ...   ...    ...  ...    ...      ...     ...    ...   ...\n",
              "501  0.06263   0.0  11.93   0.0  0.573  ...  273.0     21.0  391.99   9.67  22.4\n",
              "502  0.04527   0.0  11.93   0.0  0.573  ...  273.0     21.0  396.90   9.08  20.6\n",
              "503  0.06076   0.0  11.93   0.0  0.573  ...  273.0     21.0  396.90   5.64  23.9\n",
              "504  0.10959   0.0  11.93   0.0  0.573  ...  273.0     21.0  393.45   6.48  22.0\n",
              "505  0.04741   0.0  11.93   0.0  0.573  ...  273.0     21.0  396.90   7.88  11.9\n",
              "\n",
              "[506 rows x 13 columns]"
            ]
          },
          "metadata": {
            "tags": []
          },
          "execution_count": 18
        }
      ]
    },
    {
      "cell_type": "code",
      "metadata": {
        "id": "nHomOq18Mnpw",
        "colab_type": "code",
        "colab": {
          "base_uri": "https://localhost:8080/",
          "height": 84
        },
        "outputId": "3d2d8494-666d-49fa-b759-6a963ed1bcc7"
      },
      "source": [
        "#Split the data into training and test with a split ratio of 80-20\n",
        "#(80% of the data into training data and 20% of the data into testing)\n",
        "from sklearn.model_selection import train_test_split\n",
        "X=df.drop(['MEDV'],axis=1)\n",
        "y=df.MEDV\n",
        "X_train,X_test,y_train,y_test=train_test_split(X,y,test_size=0.2,random_state=101)\n",
        "print('X_train: ',X_train.shape)\n",
        "print('X_test: ',X_test.shape)\n",
        "print('y_train: ',y_train.shape)\n",
        "print('y_test: ',y_test.shape)"
      ],
      "execution_count": 19,
      "outputs": [
        {
          "output_type": "stream",
          "text": [
            "X_train:  (404, 12)\n",
            "X_test:  (102, 12)\n",
            "y_train:  (404,)\n",
            "y_test:  (102,)\n"
          ],
          "name": "stdout"
        }
      ]
    },
    {
      "cell_type": "code",
      "metadata": {
        "id": "qV_nLm-vMvS_",
        "colab_type": "code",
        "colab": {
          "base_uri": "https://localhost:8080/",
          "height": 402
        },
        "outputId": "e434a6ed-c444-4d08-c61f-e68942145582"
      },
      "source": [
        "#Apply feature scaling on the input columns, and build the Multiple Linear Regression Model. \n",
        "#Check the performance on training and testing. \n",
        "#Write your inferences on performance metrics and error metrics.\n",
        "from sklearn.preprocessing import StandardScaler\n",
        "sc=StandardScaler()\n",
        "df_scaled=pd.DataFrame(data=sc.fit_transform(df),columns=df.columns)\n",
        "df_scaled"
      ],
      "execution_count": 20,
      "outputs": [
        {
          "output_type": "execute_result",
          "data": {
            "text/html": [
              "<div>\n",
              "<style scoped>\n",
              "    .dataframe tbody tr th:only-of-type {\n",
              "        vertical-align: middle;\n",
              "    }\n",
              "\n",
              "    .dataframe tbody tr th {\n",
              "        vertical-align: top;\n",
              "    }\n",
              "\n",
              "    .dataframe thead th {\n",
              "        text-align: right;\n",
              "    }\n",
              "</style>\n",
              "<table border=\"1\" class=\"dataframe\">\n",
              "  <thead>\n",
              "    <tr style=\"text-align: right;\">\n",
              "      <th></th>\n",
              "      <th>CRIM</th>\n",
              "      <th>ZN</th>\n",
              "      <th>INDUS</th>\n",
              "      <th>CHAS</th>\n",
              "      <th>NOX</th>\n",
              "      <th>RM</th>\n",
              "      <th>AGE</th>\n",
              "      <th>DIS</th>\n",
              "      <th>TAX</th>\n",
              "      <th>PTRATIO</th>\n",
              "      <th>B</th>\n",
              "      <th>LSTAT</th>\n",
              "      <th>MEDV</th>\n",
              "    </tr>\n",
              "  </thead>\n",
              "  <tbody>\n",
              "    <tr>\n",
              "      <th>0</th>\n",
              "      <td>-0.419782</td>\n",
              "      <td>0.284830</td>\n",
              "      <td>-1.287909</td>\n",
              "      <td>-0.272599</td>\n",
              "      <td>-0.144217</td>\n",
              "      <td>0.413672</td>\n",
              "      <td>-0.120013</td>\n",
              "      <td>0.140214</td>\n",
              "      <td>-0.666608</td>\n",
              "      <td>-1.459000</td>\n",
              "      <td>0.441052</td>\n",
              "      <td>-1.075562</td>\n",
              "      <td>0.159686</td>\n",
              "    </tr>\n",
              "    <tr>\n",
              "      <th>1</th>\n",
              "      <td>-0.417339</td>\n",
              "      <td>-0.487722</td>\n",
              "      <td>-0.593381</td>\n",
              "      <td>-0.272599</td>\n",
              "      <td>-0.740262</td>\n",
              "      <td>0.194274</td>\n",
              "      <td>0.367166</td>\n",
              "      <td>0.557160</td>\n",
              "      <td>-0.987329</td>\n",
              "      <td>-0.303094</td>\n",
              "      <td>0.441052</td>\n",
              "      <td>-0.492439</td>\n",
              "      <td>-0.101524</td>\n",
              "    </tr>\n",
              "    <tr>\n",
              "      <th>2</th>\n",
              "      <td>-0.417342</td>\n",
              "      <td>-0.487722</td>\n",
              "      <td>-0.593381</td>\n",
              "      <td>-0.272599</td>\n",
              "      <td>-0.740262</td>\n",
              "      <td>1.282714</td>\n",
              "      <td>-0.265812</td>\n",
              "      <td>0.557160</td>\n",
              "      <td>-0.987329</td>\n",
              "      <td>-0.303094</td>\n",
              "      <td>0.396427</td>\n",
              "      <td>-1.208727</td>\n",
              "      <td>1.324247</td>\n",
              "    </tr>\n",
              "    <tr>\n",
              "      <th>3</th>\n",
              "      <td>-0.416750</td>\n",
              "      <td>-0.487722</td>\n",
              "      <td>-1.306878</td>\n",
              "      <td>-0.272599</td>\n",
              "      <td>-0.835284</td>\n",
              "      <td>1.016303</td>\n",
              "      <td>-0.809889</td>\n",
              "      <td>1.077737</td>\n",
              "      <td>-1.106115</td>\n",
              "      <td>0.113032</td>\n",
              "      <td>0.416163</td>\n",
              "      <td>-1.361517</td>\n",
              "      <td>1.182758</td>\n",
              "    </tr>\n",
              "    <tr>\n",
              "      <th>4</th>\n",
              "      <td>-0.412482</td>\n",
              "      <td>-0.487722</td>\n",
              "      <td>-1.306878</td>\n",
              "      <td>-0.272599</td>\n",
              "      <td>-0.835284</td>\n",
              "      <td>1.228577</td>\n",
              "      <td>-0.511180</td>\n",
              "      <td>1.077737</td>\n",
              "      <td>-1.106115</td>\n",
              "      <td>0.113032</td>\n",
              "      <td>0.441052</td>\n",
              "      <td>-1.026501</td>\n",
              "      <td>1.487503</td>\n",
              "    </tr>\n",
              "    <tr>\n",
              "      <th>...</th>\n",
              "      <td>...</td>\n",
              "      <td>...</td>\n",
              "      <td>...</td>\n",
              "      <td>...</td>\n",
              "      <td>...</td>\n",
              "      <td>...</td>\n",
              "      <td>...</td>\n",
              "      <td>...</td>\n",
              "      <td>...</td>\n",
              "      <td>...</td>\n",
              "      <td>...</td>\n",
              "      <td>...</td>\n",
              "      <td>...</td>\n",
              "    </tr>\n",
              "    <tr>\n",
              "      <th>501</th>\n",
              "      <td>-0.413229</td>\n",
              "      <td>-0.487722</td>\n",
              "      <td>0.115738</td>\n",
              "      <td>-0.272599</td>\n",
              "      <td>0.158124</td>\n",
              "      <td>0.439316</td>\n",
              "      <td>0.018673</td>\n",
              "      <td>-0.625796</td>\n",
              "      <td>-0.803212</td>\n",
              "      <td>1.176466</td>\n",
              "      <td>0.387217</td>\n",
              "      <td>-0.418147</td>\n",
              "      <td>-0.014454</td>\n",
              "    </tr>\n",
              "    <tr>\n",
              "      <th>502</th>\n",
              "      <td>-0.415249</td>\n",
              "      <td>-0.487722</td>\n",
              "      <td>0.115738</td>\n",
              "      <td>-0.272599</td>\n",
              "      <td>0.158124</td>\n",
              "      <td>-0.234548</td>\n",
              "      <td>0.288933</td>\n",
              "      <td>-0.716639</td>\n",
              "      <td>-0.803212</td>\n",
              "      <td>1.176466</td>\n",
              "      <td>0.441052</td>\n",
              "      <td>-0.500850</td>\n",
              "      <td>-0.210362</td>\n",
              "    </tr>\n",
              "    <tr>\n",
              "      <th>503</th>\n",
              "      <td>-0.413447</td>\n",
              "      <td>-0.487722</td>\n",
              "      <td>0.115738</td>\n",
              "      <td>-0.272599</td>\n",
              "      <td>0.158124</td>\n",
              "      <td>0.984960</td>\n",
              "      <td>0.797449</td>\n",
              "      <td>-0.773684</td>\n",
              "      <td>-0.803212</td>\n",
              "      <td>1.176466</td>\n",
              "      <td>0.441052</td>\n",
              "      <td>-0.983048</td>\n",
              "      <td>0.148802</td>\n",
              "    </tr>\n",
              "    <tr>\n",
              "      <th>504</th>\n",
              "      <td>-0.407764</td>\n",
              "      <td>-0.487722</td>\n",
              "      <td>0.115738</td>\n",
              "      <td>-0.272599</td>\n",
              "      <td>0.158124</td>\n",
              "      <td>0.725672</td>\n",
              "      <td>0.736996</td>\n",
              "      <td>-0.668437</td>\n",
              "      <td>-0.803212</td>\n",
              "      <td>1.176466</td>\n",
              "      <td>0.403225</td>\n",
              "      <td>-0.865302</td>\n",
              "      <td>-0.057989</td>\n",
              "    </tr>\n",
              "    <tr>\n",
              "      <th>505</th>\n",
              "      <td>-0.415000</td>\n",
              "      <td>-0.487722</td>\n",
              "      <td>0.115738</td>\n",
              "      <td>-0.272599</td>\n",
              "      <td>0.158124</td>\n",
              "      <td>-0.362767</td>\n",
              "      <td>0.434732</td>\n",
              "      <td>-0.613246</td>\n",
              "      <td>-0.803212</td>\n",
              "      <td>1.176466</td>\n",
              "      <td>0.441052</td>\n",
              "      <td>-0.669058</td>\n",
              "      <td>-1.157248</td>\n",
              "    </tr>\n",
              "  </tbody>\n",
              "</table>\n",
              "<p>506 rows × 13 columns</p>\n",
              "</div>"
            ],
            "text/plain": [
              "         CRIM        ZN     INDUS  ...         B     LSTAT      MEDV\n",
              "0   -0.419782  0.284830 -1.287909  ...  0.441052 -1.075562  0.159686\n",
              "1   -0.417339 -0.487722 -0.593381  ...  0.441052 -0.492439 -0.101524\n",
              "2   -0.417342 -0.487722 -0.593381  ...  0.396427 -1.208727  1.324247\n",
              "3   -0.416750 -0.487722 -1.306878  ...  0.416163 -1.361517  1.182758\n",
              "4   -0.412482 -0.487722 -1.306878  ...  0.441052 -1.026501  1.487503\n",
              "..        ...       ...       ...  ...       ...       ...       ...\n",
              "501 -0.413229 -0.487722  0.115738  ...  0.387217 -0.418147 -0.014454\n",
              "502 -0.415249 -0.487722  0.115738  ...  0.441052 -0.500850 -0.210362\n",
              "503 -0.413447 -0.487722  0.115738  ...  0.441052 -0.983048  0.148802\n",
              "504 -0.407764 -0.487722  0.115738  ...  0.403225 -0.865302 -0.057989\n",
              "505 -0.415000 -0.487722  0.115738  ...  0.441052 -0.669058 -1.157248\n",
              "\n",
              "[506 rows x 13 columns]"
            ]
          },
          "metadata": {
            "tags": []
          },
          "execution_count": 20
        }
      ]
    },
    {
      "cell_type": "code",
      "metadata": {
        "id": "BOwmBI4DM1HZ",
        "colab_type": "code",
        "colab": {
          "base_uri": "https://localhost:8080/",
          "height": 34
        },
        "outputId": "2a0a5d97-fb6a-44cc-d368-19efa1e8af03"
      },
      "source": [
        "#build the Multiple Linear Regression Model.\n",
        "lr.fit(X_train,y_train)"
      ],
      "execution_count": 21,
      "outputs": [
        {
          "output_type": "execute_result",
          "data": {
            "text/plain": [
              "LinearRegression(copy_X=True, fit_intercept=True, n_jobs=None, normalize=False)"
            ]
          },
          "metadata": {
            "tags": []
          },
          "execution_count": 21
        }
      ]
    },
    {
      "cell_type": "code",
      "metadata": {
        "id": "QuJOAVuIM6Ww",
        "colab_type": "code",
        "colab": {}
      },
      "source": [
        "y_train_pred=lr.predict(X_train)\n",
        "y_test_pred=lr.predict(X_test)"
      ],
      "execution_count": 22,
      "outputs": []
    },
    {
      "cell_type": "code",
      "metadata": {
        "id": "CocvkdW0M8jS",
        "colab_type": "code",
        "colab": {
          "base_uri": "https://localhost:8080/",
          "height": 1000
        },
        "outputId": "e31e4911-8233-4228-c838-caf7c26c0681"
      },
      "source": [
        "y_train_pred"
      ],
      "execution_count": 23,
      "outputs": [
        {
          "output_type": "execute_result",
          "data": {
            "text/plain": [
              "array([25.61389622, 24.42859951, 21.38401926, 25.14444135, 24.73192216,\n",
              "       29.77165132, 38.12520125, 31.27114849, 22.99435611, 36.99568018,\n",
              "       24.07789266, 21.74542523, 30.99781623, 27.71759792, 28.67033271,\n",
              "       31.38156653, 26.50501372, 29.26514731, 16.76013888, 20.18998114,\n",
              "       21.63931657, 36.07483823, 25.04508184, 22.15246868, 15.46191931,\n",
              "        5.13355119, 14.68789546, 22.81066641, 26.95969431, 35.17983187,\n",
              "       22.53876804, 21.40544126, 24.92483205, 25.54816329, 29.80546871,\n",
              "       26.31002247, 35.30769323, 22.54181577, 13.57103079, 37.96034266,\n",
              "       32.36183293, 17.09608457, 24.79504138, 19.78353673, 20.06926989,\n",
              "       24.90464222, 25.24990602, 29.35116939, 17.26536883, 16.38864418,\n",
              "       41.75973289, 34.80744486, 21.16053828, 21.6667248 , 22.2741087 ,\n",
              "       12.15451453, 22.38564192, 25.05519789, 20.71477732, 27.88278591,\n",
              "       43.37319603, 24.10334084, 25.59559056, 20.46381238, 17.83701731,\n",
              "       31.25681412, 17.64110007, 12.18824102, 18.64754763, 32.70753227,\n",
              "       36.60716443, 21.28660251,  0.64545339, 17.59976867, 27.83899956,\n",
              "       18.38322487, 27.62364611, 24.7879974 , 25.9538304 , 19.88620275,\n",
              "       23.16521699, 40.5025283 , 26.74787675, 38.70388947, 24.00762794,\n",
              "       15.60725634, 21.08785   , 18.20565107, 25.25334053, 34.88598023,\n",
              "       10.06782541, 21.34822582, 19.58610181, 27.47097003, 25.52181537,\n",
              "       17.54825032, 21.67721295, 33.5265809 , 18.37344424, 23.16774921,\n",
              "       27.66064397, 26.70332703, 17.98391835, 16.91269102, 16.51509394,\n",
              "       16.07037261, 29.29944062, 19.2795765 , 18.22486146, 14.781021  ,\n",
              "       31.94353819, 17.3781326 , 21.2243288 , 21.5257235 , 34.03655432,\n",
              "       18.04262521, 32.6646365 , 16.37834296,  9.34920499, -3.84071637,\n",
              "       21.59701513,  9.80977254, 26.82275095, 28.88476781, 22.19021255,\n",
              "       26.56642559, 24.06376657, 16.83609715, 14.4276967 , 26.84869587,\n",
              "       26.26693497, 12.3039164 , 23.19782252, 25.47947245,  8.55824999,\n",
              "       14.0763401 , 26.47639511, 22.1240526 , 33.61365282, 24.01798526,\n",
              "       19.67189769, 12.52140762, 21.4882023 , 19.35402795, 16.39856186,\n",
              "       25.48868022, 42.10126668, 19.23776655, 18.80876558,  9.09705254,\n",
              "       24.59616149, 32.85962448, 17.18157386, 34.0308436 , 23.76236038,\n",
              "       19.0200339 , 34.10027567, 15.73814495, 18.10928893, 33.22271616,\n",
              "       17.56688861, 12.43199232, 24.74280769, 11.60793882, 27.62156286,\n",
              "       27.84552168, 26.76325532, 28.69855193, 23.7055855 , 22.92399583,\n",
              "       21.95590821, 21.14509853, 23.20821914, 22.64150386, 14.24207449,\n",
              "       24.61361373, 24.3591545 , 14.79480416, 27.02373974, 21.76085115,\n",
              "        6.60112631, 11.79072477, 27.22546307, 18.86472151, 13.84090511,\n",
              "       13.66090331, 21.88103635, 16.11499534, 16.8050575 , 21.25835598,\n",
              "       15.96970349, 22.96514481, 23.60013817,  4.75617454, 20.08310723,\n",
              "       16.00323721,  7.02032306, 16.14817432, 24.69182445, 22.05890891,\n",
              "       21.57927912, 31.2429616 , 19.82073743, 28.31866166, 35.77294178,\n",
              "       25.41376504, 32.04638134, 13.17515868, 17.38046162, 37.92967   ,\n",
              "       24.66617157, 15.46221655, 15.69751442, 18.90986174, 23.6513588 ,\n",
              "        4.42034671, 18.42694932, 24.86943621, 31.48571077, 20.42535495,\n",
              "       24.49949266,  8.84287127, 28.80411317, 14.78743921, 21.08271121,\n",
              "       21.16973098, 30.89368083, 16.8531598 , 16.66986625, 36.14874981,\n",
              "       17.47040211, 22.7820101 , 15.26446   , 31.87163118, 21.4581642 ,\n",
              "       14.70650566, 20.42026627, 17.42217394, 38.05577639, 30.72815651,\n",
              "       36.92277409, 27.78736429, 29.10989826, 19.5504831 , 23.3901106 ,\n",
              "       22.11859511, 19.60929362, 15.20938535,  7.56118078, 34.37759678,\n",
              "       37.44896429, 30.60904124, 26.71720181, 13.52451984, 27.63763785,\n",
              "       15.79481022, 21.18234011, 16.30634835, 22.48540508, 23.78420257,\n",
              "       25.72491005, 13.94505046, 27.17727039, 28.90041312, 18.35453814,\n",
              "       15.17818449, 17.55591833, 31.34760123, 20.00497264, 25.51591956,\n",
              "       23.99565247, 23.98498641, 13.88765262, 17.96726386, 15.47200279,\n",
              "       27.41918204, 12.85000217, 21.04544405, 19.41844653, 21.40257058,\n",
              "       37.1965516 , 16.89707683, 43.67351347, 15.1610442 , 23.00559239,\n",
              "       21.47696171, 14.20965339, 18.16246921, 12.63693334, 40.87913132,\n",
              "       19.90507329, 12.49267457, 32.6068129 , 23.88939197, 19.74096942,\n",
              "       32.04750504, 20.4842489 , 26.0156076 , 28.64822448, 20.10397408,\n",
              "       21.35815825, 17.7966597 , 19.63085355, 27.69011178, 18.7225772 ,\n",
              "       20.49511809, 11.14681993,  5.16435031, 28.57450189, 20.98362548,\n",
              "       10.26189172, 30.49597449, 16.80468522, 25.83406221, 19.56923868,\n",
              "       39.82064776, 15.65321834, 24.80339143, 17.76276965, 16.83255483,\n",
              "       35.73487095, 17.99432377, 17.99653012, 11.55983779, 15.07417151,\n",
              "       18.75564434, 30.83468364, 17.74460725, 14.2680782 , 21.39132863,\n",
              "       23.06451622, 40.48832767, 20.73313339, 36.06909991, 14.96047271,\n",
              "       17.22366318, 24.26901718, 30.84297304, 30.37242596, 10.01813074,\n",
              "       16.70365903, 19.01097822, 17.57606044, 18.8354867 , 26.20197907,\n",
              "       27.53103309, 23.13075724, 21.25289512, 12.52756999, 15.03306003,\n",
              "       16.09696462, 18.41784551, 21.2876855 , 31.51851878, 33.11703127,\n",
              "       24.49467801, 22.61211545, 35.09183705, 27.43477307, 12.86006935,\n",
              "       19.2298223 ,  2.19568857, 28.13814748, 21.68967817, 28.62770053,\n",
              "       23.27547   , 17.2261646 , 12.21825421, 32.97691205, 23.85798119,\n",
              "       22.79224366, 22.12088378,  8.93932161, 19.52869462, 18.15223059,\n",
              "       11.31499895, 24.0310675 , 17.27361926, 27.65125393, 20.38416663,\n",
              "       15.9318486 , 22.01073565, 10.2426218 , 18.42871788, 24.90842096,\n",
              "       21.81851085, 33.73379666, 32.93980959, 17.26390077, 12.16431907,\n",
              "       13.93808682, 24.60990477, 21.72693709, 33.8967967 , 19.40469681,\n",
              "       19.45925214, 17.5886208 , 24.50396526, 25.42336838, 21.45610083,\n",
              "       23.64280883, 18.29669394, 20.54579096, 21.95590935])"
            ]
          },
          "metadata": {
            "tags": []
          },
          "execution_count": 23
        }
      ]
    },
    {
      "cell_type": "code",
      "metadata": {
        "id": "UUpIB9oeM-st",
        "colab_type": "code",
        "colab": {
          "base_uri": "https://localhost:8080/",
          "height": 218
        },
        "outputId": "2165f96f-718f-4051-d155-a76444065866"
      },
      "source": [
        "#Checking the performance on both using r2_score and Adjusted r2_score:\n",
        "from sklearn.metrics import r2_score,mean_absolute_error,mean_squared_error\n",
        "print('Train :')\n",
        "\n",
        "print('R^2:', r2_score(y_train,y_train_pred)) \n",
        "print('Adjusted R^2:', 1- (1-r2_score(y_train, y_train_pred))*(len(X_train)-1)/\n",
        "      (len(X_train)-X_train.shape[1]-1))\n",
        "print('MAE: ',mean_absolute_error(y_train,y_train_pred))\n",
        "print('MSE: ',mean_squared_error(y_train,y_train_pred))\n",
        "print('RMSE: ',np.sqrt(mean_squared_error(y_train,y_train_pred)))\n",
        "\n",
        "print('Test :')\n",
        "\n",
        "print('R^2:', r2_score(y_test,y_test_pred)) \n",
        "print('Adjusted R^2:', 1- (1-r2_score(y_test, y_test_pred))*(len(X_test)-1)/\n",
        "      (len(X_test)-X_test.shape[1]-1))\n",
        "print('MAE: ',mean_absolute_error(y_test,y_test_pred))\n",
        "print('MSE ',mean_squared_error(y_test,y_test_pred))\n",
        "print('RMSE: ',np.sqrt(mean_squared_error(y_test,y_test_pred)))"
      ],
      "execution_count": 24,
      "outputs": [
        {
          "output_type": "stream",
          "text": [
            "Train :\n",
            "R^2: 0.741356512845881\n",
            "Adjusted R^2: 0.7334186053117393\n",
            "MAE:  3.1002663679411575\n",
            "MSE:  19.97179736834396\n",
            "RMSE:  4.468981692549653\n",
            "Test :\n",
            "R^2: 0.690069730178007\n",
            "Adjusted R^2: 0.648281379190772\n",
            "MAE:  4.105273583683689\n",
            "MSE  34.77144785097754\n",
            "RMSE:  5.896731963636938\n"
          ],
          "name": "stdout"
        }
      ]
    },
    {
      "cell_type": "markdown",
      "metadata": {
        "id": "zszDchV6NF75",
        "colab_type": "text"
      },
      "source": [
        "**Performance Metrics:**\n",
        "\n",
        "**Training:**\n",
        "* R2: it indicates 74% accuracy\n",
        "* adjusted R2: indicates 73% accuracy\n",
        "\n",
        "**Testing:**\n",
        "* The RMSE is 4.46, indicating an error of +/- 4.6 in the predicted values\n",
        "* The accuracy of the model on predicting the trained data is around 73% and the error caused while \n",
        "predicting these values is around 4.46\n",
        "\n",
        "**Error Metrics:**\n",
        "\n",
        "**Training:**\n",
        "* R2: it indicates 69% accuracy\n",
        "* adjusted R2: indicates 64% accuracy\n",
        "**Testing:**\n",
        "* The RMSE is 5.86, indicating an error of +/- 5.86 in the predicted values\n",
        "* The accuracy of the model on predicting the trained data is around 69% and the error caused while\n",
        "predicting these values is around 5.8\n"
      ]
    },
    {
      "cell_type": "code",
      "metadata": {
        "id": "OoEsz_HINCBR",
        "colab_type": "code",
        "colab": {}
      },
      "source": [
        ""
      ],
      "execution_count": null,
      "outputs": []
    }
  ]
}